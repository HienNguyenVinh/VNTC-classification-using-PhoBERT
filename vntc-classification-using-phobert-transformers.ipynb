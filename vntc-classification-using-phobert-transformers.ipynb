{
 "cells": [
  {
   "cell_type": "markdown",
   "id": "27d02b80",
   "metadata": {
    "papermill": {
     "duration": 0.03316,
     "end_time": "2024-01-31T23:59:57.714910",
     "exception": false,
     "start_time": "2024-01-31T23:59:57.681750",
     "status": "completed"
    },
    "tags": []
   },
   "source": [
    "# 1. Cài đặt thư viện và tải data"
   ]
  },
  {
   "cell_type": "code",
   "execution_count": 1,
   "id": "fcba7b97",
   "metadata": {
    "execution": {
     "iopub.execute_input": "2024-01-31T23:59:57.777939Z",
     "iopub.status.busy": "2024-01-31T23:59:57.777616Z",
     "iopub.status.idle": "2024-02-01T00:00:10.919925Z",
     "shell.execute_reply": "2024-02-01T00:00:10.919053Z"
    },
    "papermill": {
     "duration": 13.176683,
     "end_time": "2024-02-01T00:00:10.922786",
     "exception": false,
     "start_time": "2024-01-31T23:59:57.746103",
     "status": "completed"
    },
    "scrolled": true,
    "tags": []
   },
   "outputs": [
    {
     "name": "stdout",
     "output_type": "stream",
     "text": [
      "Requirement already satisfied: transformers in /opt/conda/lib/python3.7/site-packages (4.18.0)\r\n",
      "Requirement already satisfied: filelock in /opt/conda/lib/python3.7/site-packages (from transformers) (3.6.0)\r\n",
      "Requirement already satisfied: numpy>=1.17 in /opt/conda/lib/python3.7/site-packages (from transformers) (1.21.6)\r\n",
      "Requirement already satisfied: regex!=2019.12.17 in /opt/conda/lib/python3.7/site-packages (from transformers) (2021.11.10)\r\n",
      "Requirement already satisfied: tokenizers!=0.11.3,<0.13,>=0.11.1 in /opt/conda/lib/python3.7/site-packages (from transformers) (0.12.1)\r\n",
      "Requirement already satisfied: requests in /opt/conda/lib/python3.7/site-packages (from transformers) (2.27.1)\r\n",
      "Requirement already satisfied: sacremoses in /opt/conda/lib/python3.7/site-packages (from transformers) (0.0.53)\r\n",
      "Requirement already satisfied: importlib-metadata in /opt/conda/lib/python3.7/site-packages (from transformers) (4.11.3)\r\n",
      "Requirement already satisfied: huggingface-hub<1.0,>=0.1.0 in /opt/conda/lib/python3.7/site-packages (from transformers) (0.5.1)\r\n",
      "Requirement already satisfied: tqdm>=4.27 in /opt/conda/lib/python3.7/site-packages (from transformers) (4.63.0)\r\n",
      "Requirement already satisfied: pyyaml>=5.1 in /opt/conda/lib/python3.7/site-packages (from transformers) (6.0)\r\n",
      "Requirement already satisfied: packaging>=20.0 in /opt/conda/lib/python3.7/site-packages (from transformers) (21.3)\r\n",
      "Requirement already satisfied: typing-extensions>=3.7.4.3 in /opt/conda/lib/python3.7/site-packages (from huggingface-hub<1.0,>=0.1.0->transformers) (4.2.0)\r\n",
      "Requirement already satisfied: pyparsing!=3.0.5,>=2.0.2 in /opt/conda/lib/python3.7/site-packages (from packaging>=20.0->transformers) (3.0.7)\r\n",
      "Requirement already satisfied: zipp>=0.5 in /opt/conda/lib/python3.7/site-packages (from importlib-metadata->transformers) (3.7.0)\r\n",
      "Requirement already satisfied: idna<4,>=2.5 in /opt/conda/lib/python3.7/site-packages (from requests->transformers) (3.3)\r\n",
      "Requirement already satisfied: certifi>=2017.4.17 in /opt/conda/lib/python3.7/site-packages (from requests->transformers) (2021.10.8)\r\n",
      "Requirement already satisfied: urllib3<1.27,>=1.21.1 in /opt/conda/lib/python3.7/site-packages (from requests->transformers) (1.26.8)\r\n",
      "Requirement already satisfied: charset-normalizer~=2.0.0 in /opt/conda/lib/python3.7/site-packages (from requests->transformers) (2.0.12)\r\n",
      "Requirement already satisfied: six in /opt/conda/lib/python3.7/site-packages (from sacremoses->transformers) (1.16.0)\r\n",
      "Requirement already satisfied: joblib in /opt/conda/lib/python3.7/site-packages (from sacremoses->transformers) (1.0.1)\r\n",
      "Requirement already satisfied: click in /opt/conda/lib/python3.7/site-packages (from sacremoses->transformers) (8.0.4)\r\n",
      "\u001b[33mWARNING: Running pip as the 'root' user can result in broken permissions and conflicting behaviour with the system package manager. It is recommended to use a virtual environment instead: https://pip.pypa.io/warnings/venv\u001b[0m\u001b[33m\r\n",
      "\u001b[0m"
     ]
    }
   ],
   "source": [
    "# load pre-trained BERT và tune\n",
    "!pip install transformers"
   ]
  },
  {
   "cell_type": "code",
   "execution_count": 2,
   "id": "5d201731",
   "metadata": {
    "execution": {
     "iopub.execute_input": "2024-02-01T00:00:10.998369Z",
     "iopub.status.busy": "2024-02-01T00:00:10.998064Z",
     "iopub.status.idle": "2024-02-01T00:00:28.242089Z",
     "shell.execute_reply": "2024-02-01T00:00:28.241296Z"
    },
    "papermill": {
     "duration": 17.28564,
     "end_time": "2024-02-01T00:00:28.244481",
     "exception": false,
     "start_time": "2024-02-01T00:00:10.958841",
     "status": "completed"
    },
    "scrolled": true,
    "tags": []
   },
   "outputs": [
    {
     "name": "stdout",
     "output_type": "stream",
     "text": [
      "Cloning into 'VNTC'...\r\n",
      "remote: Enumerating objects: 39, done.\u001b[K\r\n",
      "remote: Total 39 (delta 0), reused 0 (delta 0), pack-reused 39\u001b[K\r\n",
      "Unpacking objects: 100% (39/39), 160.90 MiB | 10.94 MiB/s, done.\r\n"
     ]
    }
   ],
   "source": [
    "!git clone https://github.com/duyvuleo/VNTC.git"
   ]
  },
  {
   "cell_type": "code",
   "execution_count": 3,
   "id": "8889a33f",
   "metadata": {
    "execution": {
     "iopub.execute_input": "2024-02-01T00:00:28.322232Z",
     "iopub.status.busy": "2024-02-01T00:00:28.321922Z",
     "iopub.status.idle": "2024-02-01T00:00:41.406905Z",
     "shell.execute_reply": "2024-02-01T00:00:41.405978Z"
    },
    "papermill": {
     "duration": 13.12667,
     "end_time": "2024-02-01T00:00:41.409198",
     "exception": false,
     "start_time": "2024-02-01T00:00:28.282528",
     "status": "completed"
    },
    "tags": []
   },
   "outputs": [
    {
     "name": "stdout",
     "output_type": "stream",
     "text": [
      "/kaggle/working/VNTC/Data/10Topics/Ver1.1\n",
      "\r\n",
      "\r\n",
      "\r\n",
      "The following NEW packages will be installed:\r\n",
      "  unrar\r\n",
      "0 upgraded, 1 newly installed, 0 to remove and 62 not upgraded.\r\n",
      "Need to get 113 kB of archives.\r\n",
      "After this operation, 406 kB of additional disk space will be used.\r\n",
      "Get:1 http://archive.ubuntu.com/ubuntu focal/multiverse amd64 unrar amd64 1:5.6.6-2build1 [113 kB]\r\n",
      "Fetched 113 kB in 8s (13.5 kB/s)\r\n",
      "\n",
      "\u001b7\u001b[0;23r\u001b8\u001b[1ASelecting previously unselected package unrar.\r\n",
      "(Reading database ... 107701 files and directories currently installed.)\r\n",
      "Preparing to unpack .../unrar_1%3a5.6.6-2build1_amd64.deb ...\r\n",
      "\u001b7\u001b[24;0f\u001b[42m\u001b[30mProgress: [  0%]\u001b[49m\u001b[39m [..........................................................] \u001b8\u001b7\u001b[24;0f\u001b[42m\u001b[30mProgress: [ 20%]\u001b[49m\u001b[39m [###########...............................................] \u001b8Unpacking unrar (1:5.6.6-2build1) ...\r\n",
      "\u001b7\u001b[24;0f\u001b[42m\u001b[30mProgress: [ 40%]\u001b[49m\u001b[39m [#######################...................................] \u001b8Setting up unrar (1:5.6.6-2build1) ...\r\n",
      "\u001b7\u001b[24;0f\u001b[42m\u001b[30mProgress: [ 60%]\u001b[49m\u001b[39m [##################################........................] \u001b8update-alternatives: using /usr/bin/unrar-nonfree to provide /usr/bin/unrar (unrar) in auto mode\r\n",
      "update-alternatives: warning: skip creation of /usr/share/man/man1/unrar.1.gz because associated file /usr/share/man/man1/unrar-nonfree.1.gz (of link group unrar) doesn't exist\r\n",
      "\u001b7\u001b[24;0f\u001b[42m\u001b[30mProgress: [ 80%]\u001b[49m\u001b[39m [##############################################............] \u001b8Processing triggers for man-db (2.9.1-1) ...\r\n",
      "\r\n",
      "\u001b7\u001b[0;24r\u001b8\u001b[1A\u001b[J"
     ]
    }
   ],
   "source": [
    "%cd /kaggle/working/VNTC/Data/10Topics/Ver1.1\n",
    "!apt install unrar"
   ]
  },
  {
   "cell_type": "code",
   "execution_count": 4,
   "id": "5010c1d1",
   "metadata": {
    "execution": {
     "iopub.execute_input": "2024-02-01T00:00:41.522278Z",
     "iopub.status.busy": "2024-02-01T00:00:41.521982Z",
     "iopub.status.idle": "2024-02-01T00:01:01.051854Z",
     "shell.execute_reply": "2024-02-01T00:01:01.050896Z"
    },
    "papermill": {
     "duration": 19.588505,
     "end_time": "2024-02-01T00:01:01.054161",
     "exception": false,
     "start_time": "2024-02-01T00:00:41.465656",
     "status": "completed"
    },
    "tags": []
   },
   "outputs": [
    {
     "name": "stdout",
     "output_type": "stream",
     "text": [
      "/kaggle/working\n",
      "Test_Full  Train_Full  VNTC  __notebook__.ipynb\r\n"
     ]
    }
   ],
   "source": [
    "!unrar x Test_Full.rar /kaggle/working > /dev/null\n",
    "!unrar x Train_Full.rar /kaggle/working > /dev/null\n",
    "%cd /kaggle/working\n",
    "!ls"
   ]
  },
  {
   "cell_type": "markdown",
   "id": "ff36fa62",
   "metadata": {
    "papermill": {
     "duration": 0.056302,
     "end_time": "2024-02-01T00:01:01.166819",
     "exception": false,
     "start_time": "2024-02-01T00:01:01.110517",
     "status": "completed"
    },
    "tags": []
   },
   "source": [
    "# 2. Data processing"
   ]
  },
  {
   "cell_type": "code",
   "execution_count": 5,
   "id": "130f3026",
   "metadata": {
    "execution": {
     "iopub.execute_input": "2024-02-01T00:01:01.282315Z",
     "iopub.status.busy": "2024-02-01T00:01:01.281604Z",
     "iopub.status.idle": "2024-02-01T00:01:03.043043Z",
     "shell.execute_reply": "2024-02-01T00:01:03.042043Z"
    },
    "papermill": {
     "duration": 1.822535,
     "end_time": "2024-02-01T00:01:03.045979",
     "exception": false,
     "start_time": "2024-02-01T00:01:01.223444",
     "status": "completed"
    },
    "tags": []
   },
   "outputs": [],
   "source": [
    "import os\n",
    "import torch\n",
    "from typing import List, Tuple, Dict\n",
    "from tqdm import tqdm"
   ]
  },
  {
   "cell_type": "code",
   "execution_count": 6,
   "id": "8b285951",
   "metadata": {
    "execution": {
     "iopub.execute_input": "2024-02-01T00:01:03.167431Z",
     "iopub.status.busy": "2024-02-01T00:01:03.167125Z",
     "iopub.status.idle": "2024-02-01T00:01:07.177875Z",
     "shell.execute_reply": "2024-02-01T00:01:07.176948Z"
    },
    "papermill": {
     "duration": 4.07379,
     "end_time": "2024-02-01T00:01:07.180240",
     "exception": false,
     "start_time": "2024-02-01T00:01:03.106450",
     "status": "completed"
    },
    "tags": []
   },
   "outputs": [
    {
     "name": "stderr",
     "output_type": "stream",
     "text": [
      "11it [00:01,  6.90it/s]\n",
      "11it [00:02,  4.59it/s]\n"
     ]
    }
   ],
   "source": [
    "TRAIN_PATH = \"/kaggle/working/Train_Full\"\n",
    "TEST_PATH = \"/kaggle/working/Test_Full\"\n",
    "\n",
    "def read_txt(path):\n",
    "    with open(path, 'r', encoding='utf-16') as f:\n",
    "        data = f.read()\n",
    "    return data\n",
    "\n",
    "def make_data(root_path):\n",
    "    texts = []\n",
    "    labels = []\n",
    "    \n",
    "    for root, dirs, files in tqdm(os.walk(root_path)):\n",
    "        for file_name in files:\n",
    "            try:\n",
    "                file_path = os.path.join(root, file_name)\n",
    "                content = read_txt(file_path)\n",
    "                label = root.split(os.path.sep)[-1]\n",
    "                texts.append(content)\n",
    "                labels.append(label)\n",
    "            except Exception as e:\n",
    "                print(f\"Error processing file {file_path}: {e}\")\n",
    "    \n",
    "    return texts, labels\n",
    "\n",
    "text_train, label_train = make_data(TRAIN_PATH)\n",
    "text_test, label_test = make_data(TEST_PATH)"
   ]
  },
  {
   "cell_type": "code",
   "execution_count": 7,
   "id": "137518bf",
   "metadata": {
    "execution": {
     "iopub.execute_input": "2024-02-01T00:01:07.327770Z",
     "iopub.status.busy": "2024-02-01T00:01:07.326862Z",
     "iopub.status.idle": "2024-02-01T00:01:07.333028Z",
     "shell.execute_reply": "2024-02-01T00:01:07.332151Z"
    },
    "papermill": {
     "duration": 0.08328,
     "end_time": "2024-02-01T00:01:07.335215",
     "exception": false,
     "start_time": "2024-02-01T00:01:07.251935",
     "status": "completed"
    },
    "tags": []
   },
   "outputs": [
    {
     "name": "stdout",
     "output_type": "stream",
     "text": [
      "Phúc hãy quên đi cô nàng dễ thay đổi đó\n",
      "Theo tôi cô ấy không có lập trường vững vàng, tình cảm dễ thay đổi, và hơn nữa cô ấy không tôn trọng anh cũng như người yêu cũ của cô ta. Nếu là người yêu của anh, cô ấy sẵn sàng từ bỏ anh bất cứ lúc nào nếu như phải lòng một người đàn ông nào khác.\n",
      "From: Van Loi To: webmaster@vnexpress.net Sent: Friday, September 16, 2005 2:28 PM Subject: Gop y cung anh Phuc \n",
      "Gởi anh Phúc! \n",
      "Tôi đọc được bài viết của anh, nhận thấy rằng anh đã đặt tình yêu của mình cho một người không biết xem trọng tình yêu. Khi một người con gái đã có một cuộc tình dài 4 năm và đã đi đến quyết định làm đám cưới, được sự đồng ý của cả hai gia đình, trong cuộc tình này không ít thì nhiều cũng có được tình yêu từ hai phía và mới quyết định làm đám cưới, nhưng cô ấy đành từ bỏ những chuyện ấy để đến với anh. Trong khi cô ấy chỉ quen anh chưa đầy một năm, tức là lúc này cô ấy vừa quen cả hai người.\n",
      "Vì nhận thấy anh có cái gì đó hơn người yêu của cô ấy, cô ấy sẵn sàng từ bỏ theo anh. Đọc đến đây, tôi nghĩ nếu là người yêu của anh, cô ấy sẵn sàng từ bỏ anh bất cứ lúc nào nếu như phải lòng một người đàn ông nào khác. Quả thật cô ấy lại tiếp tục lừa dối anh để gặp người yêu cũ. Theo tôi cô ấy không có lập trường vững vàng, tình cảm dễ thay đổi, và hơn nữa cô ấy không tôn trọng anh cũng như người yêu cũ của cô ta.\n",
      "Anh nên cố gắng quên cô ta, thà một lần đau anh à! \n",
      "Thân! \n",
      "\n",
      " Doi song\n",
      "33759 50373\n"
     ]
    }
   ],
   "source": [
    "print(text_train[0], label_train[0])\n",
    "print(len(text_train), len(text_test))"
   ]
  },
  {
   "cell_type": "markdown",
   "id": "4a205ce1",
   "metadata": {
    "papermill": {
     "duration": 0.074798,
     "end_time": "2024-02-01T00:01:07.485548",
     "exception": false,
     "start_time": "2024-02-01T00:01:07.410750",
     "status": "completed"
    },
    "tags": []
   },
   "source": [
    "**Encode các labels**"
   ]
  },
  {
   "cell_type": "code",
   "execution_count": 8,
   "id": "c58b710f",
   "metadata": {
    "execution": {
     "iopub.execute_input": "2024-02-01T00:01:07.634057Z",
     "iopub.status.busy": "2024-02-01T00:01:07.633266Z",
     "iopub.status.idle": "2024-02-01T00:01:08.589315Z",
     "shell.execute_reply": "2024-02-01T00:01:08.588486Z"
    },
    "papermill": {
     "duration": 1.031035,
     "end_time": "2024-02-01T00:01:08.591446",
     "exception": false,
     "start_time": "2024-02-01T00:01:07.560411",
     "status": "completed"
    },
    "tags": []
   },
   "outputs": [
    {
     "name": "stdout",
     "output_type": "stream",
     "text": [
      "['Chinh tri Xa hoi' 'Doi song' 'Khoa hoc' 'Kinh doanh' 'Phap luat'\n",
      " 'Suc khoe' 'The gioi' 'The thao' 'Van hoa' 'Vi tinh']\n"
     ]
    }
   ],
   "source": [
    "from sklearn.preprocessing import LabelEncoder\n",
    "\n",
    "lb_encoder = LabelEncoder()\n",
    "label_train_encoded = lb_encoder.fit_transform(label_train)\n",
    "label_test_encoded = lb_encoder.transform(label_test)\n",
    "\n",
    "print(lb_encoder.classes_)"
   ]
  },
  {
   "cell_type": "code",
   "execution_count": 9,
   "id": "749e3501",
   "metadata": {
    "execution": {
     "iopub.execute_input": "2024-02-01T00:01:08.747441Z",
     "iopub.status.busy": "2024-02-01T00:01:08.746741Z",
     "iopub.status.idle": "2024-02-01T00:01:08.823845Z",
     "shell.execute_reply": "2024-02-01T00:01:08.823144Z"
    },
    "papermill": {
     "duration": 0.163503,
     "end_time": "2024-02-01T00:01:08.826277",
     "exception": false,
     "start_time": "2024-02-01T00:01:08.662774",
     "status": "completed"
    },
    "tags": []
   },
   "outputs": [],
   "source": [
    "# Chia tập train thành tập train và valid\n",
    "from sklearn.model_selection import train_test_split\n",
    "\n",
    "X_train, X_val, y_train, y_val = train_test_split(text_train, label_train_encoded, test_size=0.1, stratify=label_train_encoded)"
   ]
  },
  {
   "cell_type": "markdown",
   "id": "8b993343",
   "metadata": {
    "papermill": {
     "duration": 0.071077,
     "end_time": "2024-02-01T00:01:08.968895",
     "exception": false,
     "start_time": "2024-02-01T00:01:08.897818",
     "status": "completed"
    },
    "tags": []
   },
   "source": [
    "**Tạo dataloader**"
   ]
  },
  {
   "cell_type": "code",
   "execution_count": 10,
   "id": "c8fbb6fb",
   "metadata": {
    "execution": {
     "iopub.execute_input": "2024-02-01T00:01:09.120901Z",
     "iopub.status.busy": "2024-02-01T00:01:09.120130Z",
     "iopub.status.idle": "2024-02-01T00:01:16.175639Z",
     "shell.execute_reply": "2024-02-01T00:01:16.174723Z"
    },
    "papermill": {
     "duration": 7.137043,
     "end_time": "2024-02-01T00:01:16.177641",
     "exception": false,
     "start_time": "2024-02-01T00:01:09.040598",
     "status": "completed"
    },
    "tags": []
   },
   "outputs": [
    {
     "data": {
      "application/vnd.jupyter.widget-view+json": {
       "model_id": "ab5109e4e8644455aa91223c9b414fd0",
       "version_major": 2,
       "version_minor": 0
      },
      "text/plain": [
       "Downloading:   0%|          | 0.00/557 [00:00<?, ?B/s]"
      ]
     },
     "metadata": {},
     "output_type": "display_data"
    },
    {
     "data": {
      "application/vnd.jupyter.widget-view+json": {
       "model_id": "696af2cad98846d69f0c5f1653491812",
       "version_major": 2,
       "version_minor": 0
      },
      "text/plain": [
       "Downloading:   0%|          | 0.00/874k [00:00<?, ?B/s]"
      ]
     },
     "metadata": {},
     "output_type": "display_data"
    },
    {
     "data": {
      "application/vnd.jupyter.widget-view+json": {
       "model_id": "4ddbc0dc8cbd4ccfb1a0089f16e2911f",
       "version_major": 2,
       "version_minor": 0
      },
      "text/plain": [
       "Downloading:   0%|          | 0.00/1.08M [00:00<?, ?B/s]"
      ]
     },
     "metadata": {},
     "output_type": "display_data"
    },
    {
     "name": "stderr",
     "output_type": "stream",
     "text": [
      "Special tokens have been added in the vocabulary, make sure the associated word embeddings are fine-tuned or trained.\n"
     ]
    }
   ],
   "source": [
    "from transformers import AutoTokenizer, AutoModelForSequenceClassification\n",
    "\n",
    "tokenizer = AutoTokenizer.from_pretrained('vinai/phobert-base')"
   ]
  },
  {
   "cell_type": "code",
   "execution_count": 11,
   "id": "9ca499d7",
   "metadata": {
    "execution": {
     "iopub.execute_input": "2024-02-01T00:01:16.315709Z",
     "iopub.status.busy": "2024-02-01T00:01:16.314968Z",
     "iopub.status.idle": "2024-02-01T00:01:16.320006Z",
     "shell.execute_reply": "2024-02-01T00:01:16.319049Z"
    },
    "papermill": {
     "duration": 0.075664,
     "end_time": "2024-02-01T00:01:16.321891",
     "exception": false,
     "start_time": "2024-02-01T00:01:16.246227",
     "status": "completed"
    },
    "tags": []
   },
   "outputs": [
    {
     "name": "stdout",
     "output_type": "stream",
     "text": [
      "Model max_length:  256\n"
     ]
    }
   ],
   "source": [
    "print(\"Model max_length: \", tokenizer.model_max_length)"
   ]
  },
  {
   "cell_type": "code",
   "execution_count": 12,
   "id": "4fc080fd",
   "metadata": {
    "execution": {
     "iopub.execute_input": "2024-02-01T00:01:16.461385Z",
     "iopub.status.busy": "2024-02-01T00:01:16.460738Z",
     "iopub.status.idle": "2024-02-01T00:06:58.954002Z",
     "shell.execute_reply": "2024-02-01T00:06:58.952819Z"
    },
    "papermill": {
     "duration": 342.565448,
     "end_time": "2024-02-01T00:06:58.956596",
     "exception": false,
     "start_time": "2024-02-01T00:01:16.391148",
     "status": "completed"
    },
    "tags": []
   },
   "outputs": [],
   "source": [
    "import torch\n",
    "from torch.utils.data import TensorDataset, DataLoader\n",
    "\n",
    "def make_dataloader(texts, labels, BATCH_SIZE=32):\n",
    "    # Mã hóa văn bản thành input_ids sử dụng tokenizer\n",
    "    input_ids = tokenizer.batch_encode_plus(texts, padding=True, truncation=True, return_tensors='pt')['input_ids']\n",
    "    labels = torch.tensor(labels)\n",
    "    \n",
    "    dataset = TensorDataset(input_ids, labels)\n",
    "    return DataLoader(dataset=dataset, batch_size=BATCH_SIZE, shuffle=True)\n",
    "\n",
    "train_dataloader = make_dataloader(X_train, y_train)\n",
    "valid_dataloader = make_dataloader(X_val, y_val)\n",
    "test_dataloader = make_dataloader(text_test, label_test_encoded)"
   ]
  },
  {
   "cell_type": "code",
   "execution_count": 13,
   "id": "48a1bddb",
   "metadata": {
    "execution": {
     "iopub.execute_input": "2024-02-01T00:06:59.097485Z",
     "iopub.status.busy": "2024-02-01T00:06:59.097206Z",
     "iopub.status.idle": "2024-02-01T00:06:59.101855Z",
     "shell.execute_reply": "2024-02-01T00:06:59.101095Z"
    },
    "papermill": {
     "duration": 0.077264,
     "end_time": "2024-02-01T00:06:59.103943",
     "exception": false,
     "start_time": "2024-02-01T00:06:59.026679",
     "status": "completed"
    },
    "tags": []
   },
   "outputs": [
    {
     "name": "stdout",
     "output_type": "stream",
     "text": [
      "950\n"
     ]
    }
   ],
   "source": [
    "print(len(train_dataloader))"
   ]
  },
  {
   "cell_type": "markdown",
   "id": "2636c122",
   "metadata": {
    "papermill": {
     "duration": 0.070042,
     "end_time": "2024-02-01T00:06:59.244391",
     "exception": false,
     "start_time": "2024-02-01T00:06:59.174349",
     "status": "completed"
    },
    "tags": []
   },
   "source": [
    "# Model"
   ]
  },
  {
   "cell_type": "code",
   "execution_count": 14,
   "id": "b0e66ecf",
   "metadata": {
    "execution": {
     "iopub.execute_input": "2024-02-01T00:06:59.383845Z",
     "iopub.status.busy": "2024-02-01T00:06:59.383225Z",
     "iopub.status.idle": "2024-02-01T00:06:59.390438Z",
     "shell.execute_reply": "2024-02-01T00:06:59.389684Z"
    },
    "papermill": {
     "duration": 0.079668,
     "end_time": "2024-02-01T00:06:59.392326",
     "exception": false,
     "start_time": "2024-02-01T00:06:59.312658",
     "status": "completed"
    },
    "tags": []
   },
   "outputs": [],
   "source": [
    "class PhoBERT_classification(torch.nn.Module):\n",
    "    def __init__(self, num_classes):\n",
    "        super().__init__()\n",
    "        self.phobert = AutoModelForSequenceClassification.from_pretrained(\"vinai/phobert-base\", num_labels = num_classes)\n",
    "        \n",
    "        for param in self.phobert.roberta.parameters():\n",
    "            param.requires_grad = False\n",
    "            \n",
    "    def forward(self, input_ids, labels):\n",
    "        out = self.phobert(input_ids, labels = labels)\n",
    "        probs = torch.softmax(out['logits'], dim=-1)\n",
    "        preds = torch.argmax(probs, dim=-1).cpu().detach().numpy()\n",
    "        out['preds'] = preds\n",
    "        return out"
   ]
  },
  {
   "cell_type": "code",
   "execution_count": 15,
   "id": "a1631971",
   "metadata": {
    "execution": {
     "iopub.execute_input": "2024-02-01T00:06:59.530726Z",
     "iopub.status.busy": "2024-02-01T00:06:59.530501Z",
     "iopub.status.idle": "2024-02-01T00:07:15.798098Z",
     "shell.execute_reply": "2024-02-01T00:07:15.797323Z"
    },
    "papermill": {
     "duration": 16.339544,
     "end_time": "2024-02-01T00:07:15.800849",
     "exception": false,
     "start_time": "2024-02-01T00:06:59.461305",
     "status": "completed"
    },
    "tags": []
   },
   "outputs": [
    {
     "data": {
      "application/vnd.jupyter.widget-view+json": {
       "model_id": "f212920f111f41cf907a76d864b11e0e",
       "version_major": 2,
       "version_minor": 0
      },
      "text/plain": [
       "Downloading:   0%|          | 0.00/518M [00:00<?, ?B/s]"
      ]
     },
     "metadata": {},
     "output_type": "display_data"
    },
    {
     "name": "stderr",
     "output_type": "stream",
     "text": [
      "Some weights of the model checkpoint at vinai/phobert-base were not used when initializing RobertaForSequenceClassification: ['lm_head.dense.bias', 'lm_head.dense.weight', 'lm_head.decoder.weight', 'lm_head.layer_norm.weight', 'lm_head.layer_norm.bias', 'lm_head.decoder.bias', 'lm_head.bias', 'roberta.pooler.dense.weight', 'roberta.pooler.dense.bias']\n",
      "- This IS expected if you are initializing RobertaForSequenceClassification from the checkpoint of a model trained on another task or with another architecture (e.g. initializing a BertForSequenceClassification model from a BertForPreTraining model).\n",
      "- This IS NOT expected if you are initializing RobertaForSequenceClassification from the checkpoint of a model that you expect to be exactly identical (initializing a BertForSequenceClassification model from a BertForSequenceClassification model).\n",
      "Some weights of RobertaForSequenceClassification were not initialized from the model checkpoint at vinai/phobert-base and are newly initialized: ['classifier.out_proj.bias', 'classifier.dense.weight', 'classifier.out_proj.weight', 'classifier.dense.bias']\n",
      "You should probably TRAIN this model on a down-stream task to be able to use it for predictions and inference.\n"
     ]
    }
   ],
   "source": [
    "num_classes = len(lb_encoder.classes_)\n",
    "\n",
    "model = PhoBERT_classification(num_classes)"
   ]
  },
  {
   "cell_type": "code",
   "execution_count": 16,
   "id": "893bb1d2",
   "metadata": {
    "execution": {
     "iopub.execute_input": "2024-02-01T00:07:15.961676Z",
     "iopub.status.busy": "2024-02-01T00:07:15.960739Z",
     "iopub.status.idle": "2024-02-01T00:07:15.973690Z",
     "shell.execute_reply": "2024-02-01T00:07:15.972949Z"
    },
    "papermill": {
     "duration": 0.08683,
     "end_time": "2024-02-01T00:07:15.975697",
     "exception": false,
     "start_time": "2024-02-01T00:07:15.888867",
     "status": "completed"
    },
    "tags": []
   },
   "outputs": [
    {
     "data": {
      "text/plain": [
       "{'trainable': 598282, 'fixed': 134407680, 'total': 135005962}"
      ]
     },
     "execution_count": 16,
     "metadata": {},
     "output_type": "execute_result"
    }
   ],
   "source": [
    "def get_num_parameters(module: torch.nn.Module) -> Dict[str, int]:\n",
    "    \"\"\"\n",
    "    Get the number of trainable, fixed and total parameters of a pytorch module.\n",
    "    :param module: pytorch module\n",
    "    :return: dict containing number of parameters\n",
    "    \"\"\"\n",
    "    trainable = 0\n",
    "    fixed = 0\n",
    "    for p in module.parameters():\n",
    "        if p.requires_grad:\n",
    "            trainable += p.numel()\n",
    "        else:\n",
    "            fixed += p.numel()\n",
    "    return {\"trainable\": trainable, \"fixed\": fixed, \"total\": trainable + fixed}\n",
    "\n",
    "get_num_parameters(model)"
   ]
  },
  {
   "cell_type": "markdown",
   "id": "adcd5414",
   "metadata": {
    "papermill": {
     "duration": 0.070771,
     "end_time": "2024-02-01T00:07:16.119551",
     "exception": false,
     "start_time": "2024-02-01T00:07:16.048780",
     "status": "completed"
    },
    "tags": []
   },
   "source": [
    "# Training model"
   ]
  },
  {
   "cell_type": "code",
   "execution_count": 17,
   "id": "e8abb36e",
   "metadata": {
    "execution": {
     "iopub.execute_input": "2024-02-01T00:07:16.262452Z",
     "iopub.status.busy": "2024-02-01T00:07:16.261832Z",
     "iopub.status.idle": "2024-02-01T00:07:16.316895Z",
     "shell.execute_reply": "2024-02-01T00:07:16.316165Z"
    },
    "papermill": {
     "duration": 0.129174,
     "end_time": "2024-02-01T00:07:16.318730",
     "exception": false,
     "start_time": "2024-02-01T00:07:16.189556",
     "status": "completed"
    },
    "tags": []
   },
   "outputs": [
    {
     "data": {
      "text/plain": [
       "'cuda'"
      ]
     },
     "execution_count": 17,
     "metadata": {},
     "output_type": "execute_result"
    }
   ],
   "source": [
    "device = 'cuda' if torch.cuda.is_available() else 'cpu'\n",
    "device"
   ]
  },
  {
   "cell_type": "code",
   "execution_count": 18,
   "id": "ac45c8ae",
   "metadata": {
    "execution": {
     "iopub.execute_input": "2024-02-01T00:07:16.463213Z",
     "iopub.status.busy": "2024-02-01T00:07:16.462451Z",
     "iopub.status.idle": "2024-02-01T00:07:16.466468Z",
     "shell.execute_reply": "2024-02-01T00:07:16.465817Z"
    },
    "papermill": {
     "duration": 0.077986,
     "end_time": "2024-02-01T00:07:16.468191",
     "exception": false,
     "start_time": "2024-02-01T00:07:16.390205",
     "status": "completed"
    },
    "scrolled": true,
    "tags": []
   },
   "outputs": [],
   "source": [
    "LR = 1e-4\n",
    "EPOCHS = 5\n",
    "LOG_STEP = 100"
   ]
  },
  {
   "cell_type": "code",
   "execution_count": 19,
   "id": "3578c3a7",
   "metadata": {
    "execution": {
     "iopub.execute_input": "2024-02-01T00:07:16.611013Z",
     "iopub.status.busy": "2024-02-01T00:07:16.610722Z",
     "iopub.status.idle": "2024-02-01T00:07:21.530622Z",
     "shell.execute_reply": "2024-02-01T00:07:21.529809Z"
    },
    "papermill": {
     "duration": 4.994718,
     "end_time": "2024-02-01T00:07:21.533164",
     "exception": false,
     "start_time": "2024-02-01T00:07:16.538446",
     "status": "completed"
    },
    "scrolled": true,
    "tags": []
   },
   "outputs": [
    {
     "data": {
      "text/plain": [
       "PhoBERT_classification(\n",
       "  (phobert): RobertaForSequenceClassification(\n",
       "    (roberta): RobertaModel(\n",
       "      (embeddings): RobertaEmbeddings(\n",
       "        (word_embeddings): Embedding(64001, 768, padding_idx=1)\n",
       "        (position_embeddings): Embedding(258, 768, padding_idx=1)\n",
       "        (token_type_embeddings): Embedding(1, 768)\n",
       "        (LayerNorm): LayerNorm((768,), eps=1e-05, elementwise_affine=True)\n",
       "        (dropout): Dropout(p=0.1, inplace=False)\n",
       "      )\n",
       "      (encoder): RobertaEncoder(\n",
       "        (layer): ModuleList(\n",
       "          (0): RobertaLayer(\n",
       "            (attention): RobertaAttention(\n",
       "              (self): RobertaSelfAttention(\n",
       "                (query): Linear(in_features=768, out_features=768, bias=True)\n",
       "                (key): Linear(in_features=768, out_features=768, bias=True)\n",
       "                (value): Linear(in_features=768, out_features=768, bias=True)\n",
       "                (dropout): Dropout(p=0.1, inplace=False)\n",
       "              )\n",
       "              (output): RobertaSelfOutput(\n",
       "                (dense): Linear(in_features=768, out_features=768, bias=True)\n",
       "                (LayerNorm): LayerNorm((768,), eps=1e-05, elementwise_affine=True)\n",
       "                (dropout): Dropout(p=0.1, inplace=False)\n",
       "              )\n",
       "            )\n",
       "            (intermediate): RobertaIntermediate(\n",
       "              (dense): Linear(in_features=768, out_features=3072, bias=True)\n",
       "              (intermediate_act_fn): GELUActivation()\n",
       "            )\n",
       "            (output): RobertaOutput(\n",
       "              (dense): Linear(in_features=3072, out_features=768, bias=True)\n",
       "              (LayerNorm): LayerNorm((768,), eps=1e-05, elementwise_affine=True)\n",
       "              (dropout): Dropout(p=0.1, inplace=False)\n",
       "            )\n",
       "          )\n",
       "          (1): RobertaLayer(\n",
       "            (attention): RobertaAttention(\n",
       "              (self): RobertaSelfAttention(\n",
       "                (query): Linear(in_features=768, out_features=768, bias=True)\n",
       "                (key): Linear(in_features=768, out_features=768, bias=True)\n",
       "                (value): Linear(in_features=768, out_features=768, bias=True)\n",
       "                (dropout): Dropout(p=0.1, inplace=False)\n",
       "              )\n",
       "              (output): RobertaSelfOutput(\n",
       "                (dense): Linear(in_features=768, out_features=768, bias=True)\n",
       "                (LayerNorm): LayerNorm((768,), eps=1e-05, elementwise_affine=True)\n",
       "                (dropout): Dropout(p=0.1, inplace=False)\n",
       "              )\n",
       "            )\n",
       "            (intermediate): RobertaIntermediate(\n",
       "              (dense): Linear(in_features=768, out_features=3072, bias=True)\n",
       "              (intermediate_act_fn): GELUActivation()\n",
       "            )\n",
       "            (output): RobertaOutput(\n",
       "              (dense): Linear(in_features=3072, out_features=768, bias=True)\n",
       "              (LayerNorm): LayerNorm((768,), eps=1e-05, elementwise_affine=True)\n",
       "              (dropout): Dropout(p=0.1, inplace=False)\n",
       "            )\n",
       "          )\n",
       "          (2): RobertaLayer(\n",
       "            (attention): RobertaAttention(\n",
       "              (self): RobertaSelfAttention(\n",
       "                (query): Linear(in_features=768, out_features=768, bias=True)\n",
       "                (key): Linear(in_features=768, out_features=768, bias=True)\n",
       "                (value): Linear(in_features=768, out_features=768, bias=True)\n",
       "                (dropout): Dropout(p=0.1, inplace=False)\n",
       "              )\n",
       "              (output): RobertaSelfOutput(\n",
       "                (dense): Linear(in_features=768, out_features=768, bias=True)\n",
       "                (LayerNorm): LayerNorm((768,), eps=1e-05, elementwise_affine=True)\n",
       "                (dropout): Dropout(p=0.1, inplace=False)\n",
       "              )\n",
       "            )\n",
       "            (intermediate): RobertaIntermediate(\n",
       "              (dense): Linear(in_features=768, out_features=3072, bias=True)\n",
       "              (intermediate_act_fn): GELUActivation()\n",
       "            )\n",
       "            (output): RobertaOutput(\n",
       "              (dense): Linear(in_features=3072, out_features=768, bias=True)\n",
       "              (LayerNorm): LayerNorm((768,), eps=1e-05, elementwise_affine=True)\n",
       "              (dropout): Dropout(p=0.1, inplace=False)\n",
       "            )\n",
       "          )\n",
       "          (3): RobertaLayer(\n",
       "            (attention): RobertaAttention(\n",
       "              (self): RobertaSelfAttention(\n",
       "                (query): Linear(in_features=768, out_features=768, bias=True)\n",
       "                (key): Linear(in_features=768, out_features=768, bias=True)\n",
       "                (value): Linear(in_features=768, out_features=768, bias=True)\n",
       "                (dropout): Dropout(p=0.1, inplace=False)\n",
       "              )\n",
       "              (output): RobertaSelfOutput(\n",
       "                (dense): Linear(in_features=768, out_features=768, bias=True)\n",
       "                (LayerNorm): LayerNorm((768,), eps=1e-05, elementwise_affine=True)\n",
       "                (dropout): Dropout(p=0.1, inplace=False)\n",
       "              )\n",
       "            )\n",
       "            (intermediate): RobertaIntermediate(\n",
       "              (dense): Linear(in_features=768, out_features=3072, bias=True)\n",
       "              (intermediate_act_fn): GELUActivation()\n",
       "            )\n",
       "            (output): RobertaOutput(\n",
       "              (dense): Linear(in_features=3072, out_features=768, bias=True)\n",
       "              (LayerNorm): LayerNorm((768,), eps=1e-05, elementwise_affine=True)\n",
       "              (dropout): Dropout(p=0.1, inplace=False)\n",
       "            )\n",
       "          )\n",
       "          (4): RobertaLayer(\n",
       "            (attention): RobertaAttention(\n",
       "              (self): RobertaSelfAttention(\n",
       "                (query): Linear(in_features=768, out_features=768, bias=True)\n",
       "                (key): Linear(in_features=768, out_features=768, bias=True)\n",
       "                (value): Linear(in_features=768, out_features=768, bias=True)\n",
       "                (dropout): Dropout(p=0.1, inplace=False)\n",
       "              )\n",
       "              (output): RobertaSelfOutput(\n",
       "                (dense): Linear(in_features=768, out_features=768, bias=True)\n",
       "                (LayerNorm): LayerNorm((768,), eps=1e-05, elementwise_affine=True)\n",
       "                (dropout): Dropout(p=0.1, inplace=False)\n",
       "              )\n",
       "            )\n",
       "            (intermediate): RobertaIntermediate(\n",
       "              (dense): Linear(in_features=768, out_features=3072, bias=True)\n",
       "              (intermediate_act_fn): GELUActivation()\n",
       "            )\n",
       "            (output): RobertaOutput(\n",
       "              (dense): Linear(in_features=3072, out_features=768, bias=True)\n",
       "              (LayerNorm): LayerNorm((768,), eps=1e-05, elementwise_affine=True)\n",
       "              (dropout): Dropout(p=0.1, inplace=False)\n",
       "            )\n",
       "          )\n",
       "          (5): RobertaLayer(\n",
       "            (attention): RobertaAttention(\n",
       "              (self): RobertaSelfAttention(\n",
       "                (query): Linear(in_features=768, out_features=768, bias=True)\n",
       "                (key): Linear(in_features=768, out_features=768, bias=True)\n",
       "                (value): Linear(in_features=768, out_features=768, bias=True)\n",
       "                (dropout): Dropout(p=0.1, inplace=False)\n",
       "              )\n",
       "              (output): RobertaSelfOutput(\n",
       "                (dense): Linear(in_features=768, out_features=768, bias=True)\n",
       "                (LayerNorm): LayerNorm((768,), eps=1e-05, elementwise_affine=True)\n",
       "                (dropout): Dropout(p=0.1, inplace=False)\n",
       "              )\n",
       "            )\n",
       "            (intermediate): RobertaIntermediate(\n",
       "              (dense): Linear(in_features=768, out_features=3072, bias=True)\n",
       "              (intermediate_act_fn): GELUActivation()\n",
       "            )\n",
       "            (output): RobertaOutput(\n",
       "              (dense): Linear(in_features=3072, out_features=768, bias=True)\n",
       "              (LayerNorm): LayerNorm((768,), eps=1e-05, elementwise_affine=True)\n",
       "              (dropout): Dropout(p=0.1, inplace=False)\n",
       "            )\n",
       "          )\n",
       "          (6): RobertaLayer(\n",
       "            (attention): RobertaAttention(\n",
       "              (self): RobertaSelfAttention(\n",
       "                (query): Linear(in_features=768, out_features=768, bias=True)\n",
       "                (key): Linear(in_features=768, out_features=768, bias=True)\n",
       "                (value): Linear(in_features=768, out_features=768, bias=True)\n",
       "                (dropout): Dropout(p=0.1, inplace=False)\n",
       "              )\n",
       "              (output): RobertaSelfOutput(\n",
       "                (dense): Linear(in_features=768, out_features=768, bias=True)\n",
       "                (LayerNorm): LayerNorm((768,), eps=1e-05, elementwise_affine=True)\n",
       "                (dropout): Dropout(p=0.1, inplace=False)\n",
       "              )\n",
       "            )\n",
       "            (intermediate): RobertaIntermediate(\n",
       "              (dense): Linear(in_features=768, out_features=3072, bias=True)\n",
       "              (intermediate_act_fn): GELUActivation()\n",
       "            )\n",
       "            (output): RobertaOutput(\n",
       "              (dense): Linear(in_features=3072, out_features=768, bias=True)\n",
       "              (LayerNorm): LayerNorm((768,), eps=1e-05, elementwise_affine=True)\n",
       "              (dropout): Dropout(p=0.1, inplace=False)\n",
       "            )\n",
       "          )\n",
       "          (7): RobertaLayer(\n",
       "            (attention): RobertaAttention(\n",
       "              (self): RobertaSelfAttention(\n",
       "                (query): Linear(in_features=768, out_features=768, bias=True)\n",
       "                (key): Linear(in_features=768, out_features=768, bias=True)\n",
       "                (value): Linear(in_features=768, out_features=768, bias=True)\n",
       "                (dropout): Dropout(p=0.1, inplace=False)\n",
       "              )\n",
       "              (output): RobertaSelfOutput(\n",
       "                (dense): Linear(in_features=768, out_features=768, bias=True)\n",
       "                (LayerNorm): LayerNorm((768,), eps=1e-05, elementwise_affine=True)\n",
       "                (dropout): Dropout(p=0.1, inplace=False)\n",
       "              )\n",
       "            )\n",
       "            (intermediate): RobertaIntermediate(\n",
       "              (dense): Linear(in_features=768, out_features=3072, bias=True)\n",
       "              (intermediate_act_fn): GELUActivation()\n",
       "            )\n",
       "            (output): RobertaOutput(\n",
       "              (dense): Linear(in_features=3072, out_features=768, bias=True)\n",
       "              (LayerNorm): LayerNorm((768,), eps=1e-05, elementwise_affine=True)\n",
       "              (dropout): Dropout(p=0.1, inplace=False)\n",
       "            )\n",
       "          )\n",
       "          (8): RobertaLayer(\n",
       "            (attention): RobertaAttention(\n",
       "              (self): RobertaSelfAttention(\n",
       "                (query): Linear(in_features=768, out_features=768, bias=True)\n",
       "                (key): Linear(in_features=768, out_features=768, bias=True)\n",
       "                (value): Linear(in_features=768, out_features=768, bias=True)\n",
       "                (dropout): Dropout(p=0.1, inplace=False)\n",
       "              )\n",
       "              (output): RobertaSelfOutput(\n",
       "                (dense): Linear(in_features=768, out_features=768, bias=True)\n",
       "                (LayerNorm): LayerNorm((768,), eps=1e-05, elementwise_affine=True)\n",
       "                (dropout): Dropout(p=0.1, inplace=False)\n",
       "              )\n",
       "            )\n",
       "            (intermediate): RobertaIntermediate(\n",
       "              (dense): Linear(in_features=768, out_features=3072, bias=True)\n",
       "              (intermediate_act_fn): GELUActivation()\n",
       "            )\n",
       "            (output): RobertaOutput(\n",
       "              (dense): Linear(in_features=3072, out_features=768, bias=True)\n",
       "              (LayerNorm): LayerNorm((768,), eps=1e-05, elementwise_affine=True)\n",
       "              (dropout): Dropout(p=0.1, inplace=False)\n",
       "            )\n",
       "          )\n",
       "          (9): RobertaLayer(\n",
       "            (attention): RobertaAttention(\n",
       "              (self): RobertaSelfAttention(\n",
       "                (query): Linear(in_features=768, out_features=768, bias=True)\n",
       "                (key): Linear(in_features=768, out_features=768, bias=True)\n",
       "                (value): Linear(in_features=768, out_features=768, bias=True)\n",
       "                (dropout): Dropout(p=0.1, inplace=False)\n",
       "              )\n",
       "              (output): RobertaSelfOutput(\n",
       "                (dense): Linear(in_features=768, out_features=768, bias=True)\n",
       "                (LayerNorm): LayerNorm((768,), eps=1e-05, elementwise_affine=True)\n",
       "                (dropout): Dropout(p=0.1, inplace=False)\n",
       "              )\n",
       "            )\n",
       "            (intermediate): RobertaIntermediate(\n",
       "              (dense): Linear(in_features=768, out_features=3072, bias=True)\n",
       "              (intermediate_act_fn): GELUActivation()\n",
       "            )\n",
       "            (output): RobertaOutput(\n",
       "              (dense): Linear(in_features=3072, out_features=768, bias=True)\n",
       "              (LayerNorm): LayerNorm((768,), eps=1e-05, elementwise_affine=True)\n",
       "              (dropout): Dropout(p=0.1, inplace=False)\n",
       "            )\n",
       "          )\n",
       "          (10): RobertaLayer(\n",
       "            (attention): RobertaAttention(\n",
       "              (self): RobertaSelfAttention(\n",
       "                (query): Linear(in_features=768, out_features=768, bias=True)\n",
       "                (key): Linear(in_features=768, out_features=768, bias=True)\n",
       "                (value): Linear(in_features=768, out_features=768, bias=True)\n",
       "                (dropout): Dropout(p=0.1, inplace=False)\n",
       "              )\n",
       "              (output): RobertaSelfOutput(\n",
       "                (dense): Linear(in_features=768, out_features=768, bias=True)\n",
       "                (LayerNorm): LayerNorm((768,), eps=1e-05, elementwise_affine=True)\n",
       "                (dropout): Dropout(p=0.1, inplace=False)\n",
       "              )\n",
       "            )\n",
       "            (intermediate): RobertaIntermediate(\n",
       "              (dense): Linear(in_features=768, out_features=3072, bias=True)\n",
       "              (intermediate_act_fn): GELUActivation()\n",
       "            )\n",
       "            (output): RobertaOutput(\n",
       "              (dense): Linear(in_features=3072, out_features=768, bias=True)\n",
       "              (LayerNorm): LayerNorm((768,), eps=1e-05, elementwise_affine=True)\n",
       "              (dropout): Dropout(p=0.1, inplace=False)\n",
       "            )\n",
       "          )\n",
       "          (11): RobertaLayer(\n",
       "            (attention): RobertaAttention(\n",
       "              (self): RobertaSelfAttention(\n",
       "                (query): Linear(in_features=768, out_features=768, bias=True)\n",
       "                (key): Linear(in_features=768, out_features=768, bias=True)\n",
       "                (value): Linear(in_features=768, out_features=768, bias=True)\n",
       "                (dropout): Dropout(p=0.1, inplace=False)\n",
       "              )\n",
       "              (output): RobertaSelfOutput(\n",
       "                (dense): Linear(in_features=768, out_features=768, bias=True)\n",
       "                (LayerNorm): LayerNorm((768,), eps=1e-05, elementwise_affine=True)\n",
       "                (dropout): Dropout(p=0.1, inplace=False)\n",
       "              )\n",
       "            )\n",
       "            (intermediate): RobertaIntermediate(\n",
       "              (dense): Linear(in_features=768, out_features=3072, bias=True)\n",
       "              (intermediate_act_fn): GELUActivation()\n",
       "            )\n",
       "            (output): RobertaOutput(\n",
       "              (dense): Linear(in_features=3072, out_features=768, bias=True)\n",
       "              (LayerNorm): LayerNorm((768,), eps=1e-05, elementwise_affine=True)\n",
       "              (dropout): Dropout(p=0.1, inplace=False)\n",
       "            )\n",
       "          )\n",
       "        )\n",
       "      )\n",
       "    )\n",
       "    (classifier): RobertaClassificationHead(\n",
       "      (dense): Linear(in_features=768, out_features=768, bias=True)\n",
       "      (dropout): Dropout(p=0.1, inplace=False)\n",
       "      (out_proj): Linear(in_features=768, out_features=10, bias=True)\n",
       "    )\n",
       "  )\n",
       ")"
      ]
     },
     "execution_count": 19,
     "metadata": {},
     "output_type": "execute_result"
    }
   ],
   "source": [
    "model.to(device)"
   ]
  },
  {
   "cell_type": "code",
   "execution_count": 20,
   "id": "c8fa9622",
   "metadata": {
    "execution": {
     "iopub.execute_input": "2024-02-01T00:07:21.683433Z",
     "iopub.status.busy": "2024-02-01T00:07:21.682776Z",
     "iopub.status.idle": "2024-02-01T00:07:21.693751Z",
     "shell.execute_reply": "2024-02-01T00:07:21.693022Z"
    },
    "papermill": {
     "duration": 0.088903,
     "end_time": "2024-02-01T00:07:21.695526",
     "exception": false,
     "start_time": "2024-02-01T00:07:21.606623",
     "status": "completed"
    },
    "tags": []
   },
   "outputs": [],
   "source": [
    "from sklearn.metrics import classification_report\n",
    "\n",
    "def train_model(optimizer):\n",
    "    total_loss = 0\n",
    "    for i in range(EPOCHS):\n",
    "        print(f'------------ Epoch {i+1} -----------------')\n",
    "        print('Training ...')\n",
    "        model.train()\n",
    "        for step, (input_ids, labels) in tqdm(enumerate(train_dataloader)):\n",
    "            optimizer.zero_grad()\n",
    "            input_ids = input_ids.to(device)\n",
    "            labels = labels.to(device)\n",
    "\n",
    "            out = model(input_ids, labels)\n",
    "            loss = out['loss']\n",
    "            loss.backward()\n",
    "            optimizer.step()\n",
    "\n",
    "            total_loss += loss.detach().cpu().item()\n",
    "\n",
    "        preds = []\n",
    "        truths = []\n",
    "        print('Running Validation...')\n",
    "        model.eval()\n",
    "        valid_loss = 0\n",
    "        with torch.no_grad():\n",
    "            for step, (input_ids, labels) in tqdm(enumerate(valid_dataloader)):\n",
    "                input_ids = input_ids.to(device)\n",
    "                labels = labels.to(device)\n",
    "\n",
    "                out = model(input_ids, labels)\n",
    "                loss = out['loss']\n",
    "                valid_loss += loss.detach().cpu().item()\n",
    "                preds.extend(out['preds'])\n",
    "                truths.extend(labels.detach().cpu().numpy())\n",
    "        print(classification_report(truths, preds, target_names=lb_encoder.classes_))\n",
    "        print(f\"Valid loss: {valid_loss / len(valid_dataloader)}\")"
   ]
  },
  {
   "cell_type": "code",
   "execution_count": 21,
   "id": "09301007",
   "metadata": {
    "execution": {
     "iopub.execute_input": "2024-02-01T00:07:21.841835Z",
     "iopub.status.busy": "2024-02-01T00:07:21.841585Z",
     "iopub.status.idle": "2024-02-01T00:07:21.844753Z",
     "shell.execute_reply": "2024-02-01T00:07:21.844104Z"
    },
    "papermill": {
     "duration": 0.07833,
     "end_time": "2024-02-01T00:07:21.846509",
     "exception": false,
     "start_time": "2024-02-01T00:07:21.768179",
     "status": "completed"
    },
    "tags": []
   },
   "outputs": [],
   "source": [
    "# optimizer = torch.optim.Adam(model.parameters(), lr=LR)\n",
    "\n",
    "# train_model(optimizer)"
   ]
  },
  {
   "cell_type": "code",
   "execution_count": 22,
   "id": "a10ea484",
   "metadata": {
    "execution": {
     "iopub.execute_input": "2024-02-01T00:07:21.993173Z",
     "iopub.status.busy": "2024-02-01T00:07:21.992540Z",
     "iopub.status.idle": "2024-02-01T00:28:57.892504Z",
     "shell.execute_reply": "2024-02-01T00:28:57.891609Z"
    },
    "papermill": {
     "duration": 1295.975645,
     "end_time": "2024-02-01T00:28:57.894600",
     "exception": false,
     "start_time": "2024-02-01T00:07:21.918955",
     "status": "completed"
    },
    "tags": []
   },
   "outputs": [
    {
     "name": "stderr",
     "output_type": "stream",
     "text": [
      "/opt/conda/lib/python3.7/site-packages/transformers/optimization.py:309: FutureWarning: This implementation of AdamW is deprecated and will be removed in a future version. Use the PyTorch implementation torch.optim.AdamW instead, or set `no_deprecation_warning=True` to disable this warning\n",
      "  FutureWarning,\n"
     ]
    },
    {
     "name": "stdout",
     "output_type": "stream",
     "text": [
      "------------ Epoch 1 -----------------\n",
      "Training ...\n"
     ]
    },
    {
     "name": "stderr",
     "output_type": "stream",
     "text": [
      "950it [03:54,  4.05it/s]\n"
     ]
    },
    {
     "name": "stdout",
     "output_type": "stream",
     "text": [
      "Running Validation...\n"
     ]
    },
    {
     "name": "stderr",
     "output_type": "stream",
     "text": [
      "106it [00:24,  4.26it/s]\n"
     ]
    },
    {
     "name": "stdout",
     "output_type": "stream",
     "text": [
      "                  precision    recall  f1-score   support\n",
      "\n",
      "Chinh tri Xa hoi       0.42      0.87      0.57       522\n",
      "        Doi song       0.65      0.71      0.68       316\n",
      "        Khoa hoc       1.00      0.21      0.35       182\n",
      "      Kinh doanh       0.93      0.38      0.54       255\n",
      "       Phap luat       0.87      0.66      0.75       387\n",
      "        Suc khoe       0.73      0.67      0.70       338\n",
      "        The gioi       0.79      0.78      0.79       290\n",
      "        The thao       0.95      0.92      0.93       530\n",
      "         Van hoa       0.87      0.63      0.73       308\n",
      "         Vi tinh       0.93      0.66      0.77       248\n",
      "\n",
      "        accuracy                           0.70      3376\n",
      "       macro avg       0.81      0.65      0.68      3376\n",
      "    weighted avg       0.79      0.70      0.70      3376\n",
      "\n",
      "Valid loss: 1.2338241046329714\n",
      "------------ Epoch 2 -----------------\n",
      "Training ...\n"
     ]
    },
    {
     "name": "stderr",
     "output_type": "stream",
     "text": [
      "950it [03:53,  4.06it/s]\n"
     ]
    },
    {
     "name": "stdout",
     "output_type": "stream",
     "text": [
      "Running Validation...\n"
     ]
    },
    {
     "name": "stderr",
     "output_type": "stream",
     "text": [
      "106it [00:24,  4.26it/s]\n"
     ]
    },
    {
     "name": "stdout",
     "output_type": "stream",
     "text": [
      "                  precision    recall  f1-score   support\n",
      "\n",
      "Chinh tri Xa hoi       0.50      0.79      0.61       522\n",
      "        Doi song       0.75      0.70      0.72       316\n",
      "        Khoa hoc       0.86      0.46      0.59       182\n",
      "      Kinh doanh       0.81      0.56      0.67       255\n",
      "       Phap luat       0.73      0.78      0.76       387\n",
      "        Suc khoe       0.77      0.73      0.75       338\n",
      "        The gioi       0.79      0.80      0.79       290\n",
      "        The thao       0.96      0.92      0.94       530\n",
      "         Van hoa       0.83      0.72      0.77       308\n",
      "         Vi tinh       0.94      0.70      0.80       248\n",
      "\n",
      "        accuracy                           0.75      3376\n",
      "       macro avg       0.79      0.72      0.74      3376\n",
      "    weighted avg       0.78      0.75      0.75      3376\n",
      "\n",
      "Valid loss: 0.9647792555251211\n",
      "------------ Epoch 3 -----------------\n",
      "Training ...\n"
     ]
    },
    {
     "name": "stderr",
     "output_type": "stream",
     "text": [
      "950it [03:54,  4.06it/s]\n"
     ]
    },
    {
     "name": "stdout",
     "output_type": "stream",
     "text": [
      "Running Validation...\n"
     ]
    },
    {
     "name": "stderr",
     "output_type": "stream",
     "text": [
      "106it [00:24,  4.25it/s]\n"
     ]
    },
    {
     "name": "stdout",
     "output_type": "stream",
     "text": [
      "                  precision    recall  f1-score   support\n",
      "\n",
      "Chinh tri Xa hoi       0.53      0.77      0.63       522\n",
      "        Doi song       0.75      0.71      0.73       316\n",
      "        Khoa hoc       0.84      0.55      0.66       182\n",
      "      Kinh doanh       0.80      0.62      0.70       255\n",
      "       Phap luat       0.77      0.79      0.78       387\n",
      "        Suc khoe       0.75      0.75      0.75       338\n",
      "        The gioi       0.80      0.81      0.81       290\n",
      "        The thao       0.97      0.92      0.95       530\n",
      "         Van hoa       0.82      0.75      0.78       308\n",
      "         Vi tinh       0.94      0.73      0.82       248\n",
      "\n",
      "        accuracy                           0.76      3376\n",
      "       macro avg       0.80      0.74      0.76      3376\n",
      "    weighted avg       0.79      0.76      0.77      3376\n",
      "\n",
      "Valid loss: 0.8301336023042787\n",
      "------------ Epoch 4 -----------------\n",
      "Training ...\n"
     ]
    },
    {
     "name": "stderr",
     "output_type": "stream",
     "text": [
      "950it [03:54,  4.06it/s]\n"
     ]
    },
    {
     "name": "stdout",
     "output_type": "stream",
     "text": [
      "Running Validation...\n"
     ]
    },
    {
     "name": "stderr",
     "output_type": "stream",
     "text": [
      "106it [00:24,  4.25it/s]\n"
     ]
    },
    {
     "name": "stdout",
     "output_type": "stream",
     "text": [
      "                  precision    recall  f1-score   support\n",
      "\n",
      "Chinh tri Xa hoi       0.56      0.76      0.64       522\n",
      "        Doi song       0.74      0.73      0.74       316\n",
      "        Khoa hoc       0.84      0.57      0.68       182\n",
      "      Kinh doanh       0.79      0.63      0.70       255\n",
      "       Phap luat       0.76      0.79      0.77       387\n",
      "        Suc khoe       0.74      0.78      0.76       338\n",
      "        The gioi       0.81      0.81      0.81       290\n",
      "        The thao       0.97      0.93      0.95       530\n",
      "         Van hoa       0.83      0.74      0.78       308\n",
      "         Vi tinh       0.94      0.74      0.83       248\n",
      "\n",
      "        accuracy                           0.77      3376\n",
      "       macro avg       0.80      0.75      0.77      3376\n",
      "    weighted avg       0.79      0.77      0.77      3376\n",
      "\n",
      "Valid loss: 0.7563440288012883\n",
      "------------ Epoch 5 -----------------\n",
      "Training ...\n"
     ]
    },
    {
     "name": "stderr",
     "output_type": "stream",
     "text": [
      "950it [03:54,  4.06it/s]\n"
     ]
    },
    {
     "name": "stdout",
     "output_type": "stream",
     "text": [
      "Running Validation...\n"
     ]
    },
    {
     "name": "stderr",
     "output_type": "stream",
     "text": [
      "106it [00:24,  4.25it/s]"
     ]
    },
    {
     "name": "stdout",
     "output_type": "stream",
     "text": [
      "                  precision    recall  f1-score   support\n",
      "\n",
      "Chinh tri Xa hoi       0.57      0.75      0.65       522\n",
      "        Doi song       0.77      0.74      0.76       316\n",
      "        Khoa hoc       0.82      0.61      0.70       182\n",
      "      Kinh doanh       0.80      0.64      0.71       255\n",
      "       Phap luat       0.74      0.80      0.77       387\n",
      "        Suc khoe       0.74      0.80      0.77       338\n",
      "        The gioi       0.84      0.80      0.82       290\n",
      "        The thao       0.98      0.92      0.95       530\n",
      "         Van hoa       0.80      0.76      0.78       308\n",
      "         Vi tinh       0.92      0.75      0.83       248\n",
      "\n",
      "        accuracy                           0.78      3376\n",
      "       macro avg       0.80      0.76      0.77      3376\n",
      "    weighted avg       0.79      0.78      0.78      3376\n",
      "\n",
      "Valid loss: 0.7041297301931201\n"
     ]
    },
    {
     "name": "stderr",
     "output_type": "stream",
     "text": [
      "\n"
     ]
    }
   ],
   "source": [
    "from transformers import AdamW\n",
    "\n",
    "param_optimizer = list(model.named_parameters())\n",
    "no_decay = ['bias', 'LayerNorm.bias', 'LayerNorm.weight']\n",
    "optimizer_grouped_parameters = [\n",
    "    {'params': [p for n, p in param_optimizer if not any(nd in n for nd in no_decay)],\n",
    "    'weight_decay': 0.01},\n",
    "    {'params': [p for n, p in param_optimizer if any(nd in n for nd in no_decay)],\n",
    "    'weight_decay': 0},\n",
    "]\n",
    "\n",
    "optimizer = AdamW(optimizer_grouped_parameters, lr=1e-5, correct_bias=False)\n",
    "\n",
    "train_model(optimizer)"
   ]
  },
  {
   "cell_type": "code",
   "execution_count": 23,
   "id": "a3b65f2e",
   "metadata": {
    "execution": {
     "iopub.execute_input": "2024-02-01T00:29:02.211253Z",
     "iopub.status.busy": "2024-02-01T00:29:02.210918Z",
     "iopub.status.idle": "2024-02-01T00:29:03.363879Z",
     "shell.execute_reply": "2024-02-01T00:29:03.362946Z"
    },
    "papermill": {
     "duration": 3.320907,
     "end_time": "2024-02-01T00:29:03.366422",
     "exception": false,
     "start_time": "2024-02-01T00:29:00.045515",
     "status": "completed"
    },
    "tags": []
   },
   "outputs": [],
   "source": [
    "torch.save(model.state_dict(), f'phobert_text_classification.pth') "
   ]
  },
  {
   "cell_type": "markdown",
   "id": "93437d0c",
   "metadata": {
    "papermill": {
     "duration": 2.393455,
     "end_time": "2024-02-01T00:29:08.059797",
     "exception": false,
     "start_time": "2024-02-01T00:29:05.666342",
     "status": "completed"
    },
    "tags": []
   },
   "source": [
    "# Testing model"
   ]
  },
  {
   "cell_type": "code",
   "execution_count": 24,
   "id": "c227c6d1",
   "metadata": {
    "execution": {
     "iopub.execute_input": "2024-02-01T00:29:12.798058Z",
     "iopub.status.busy": "2024-02-01T00:29:12.797223Z",
     "iopub.status.idle": "2024-02-01T00:29:37.784976Z",
     "shell.execute_reply": "2024-02-01T00:29:37.783901Z"
    },
    "papermill": {
     "duration": 27.362754,
     "end_time": "2024-02-01T00:29:37.786893",
     "exception": false,
     "start_time": "2024-02-01T00:29:10.424139",
     "status": "completed"
    },
    "tags": []
   },
   "outputs": [
    {
     "name": "stderr",
     "output_type": "stream",
     "text": [
      "106it [00:24,  4.25it/s]"
     ]
    },
    {
     "name": "stdout",
     "output_type": "stream",
     "text": [
      "                  precision    recall  f1-score   support\n",
      "\n",
      "Chinh tri Xa hoi       0.57      0.75      0.65       522\n",
      "        Doi song       0.77      0.74      0.76       316\n",
      "        Khoa hoc       0.82      0.61      0.70       182\n",
      "      Kinh doanh       0.80      0.64      0.71       255\n",
      "       Phap luat       0.74      0.80      0.77       387\n",
      "        Suc khoe       0.74      0.80      0.77       338\n",
      "        The gioi       0.84      0.80      0.82       290\n",
      "        The thao       0.98      0.92      0.95       530\n",
      "         Van hoa       0.80      0.76      0.78       308\n",
      "         Vi tinh       0.92      0.75      0.83       248\n",
      "\n",
      "        accuracy                           0.78      3376\n",
      "       macro avg       0.80      0.76      0.77      3376\n",
      "    weighted avg       0.79      0.78      0.78      3376\n",
      "\n"
     ]
    },
    {
     "name": "stderr",
     "output_type": "stream",
     "text": [
      "\n"
     ]
    }
   ],
   "source": [
    "def test_model(data_loader):\n",
    "    preds = []\n",
    "    truths = [] \n",
    "    model.eval()\n",
    "    with torch.no_grad():\n",
    "        for step, (input_ids, labels) in tqdm(enumerate(valid_dataloader)):\n",
    "            input_ids = input_ids.to(device)\n",
    "            labels = labels.to(device)\n",
    "\n",
    "            out = model(input_ids, labels)\n",
    "            loss = out['loss']\n",
    "            \n",
    "            preds.extend(out['preds'])\n",
    "            truths.extend(labels.detach().cpu().numpy())\n",
    "            \n",
    "    print(classification_report(truths, preds, target_names=lb_encoder.classes_))\n",
    "    \n",
    "test_model(test_dataloader)"
   ]
  }
 ],
 "metadata": {
  "kaggle": {
   "accelerator": "gpu",
   "dataSources": [
    {
     "datasetId": 2196433,
     "sourceId": 3669254,
     "sourceType": "datasetVersion"
    }
   ],
   "dockerImageVersionId": 30192,
   "isGpuEnabled": true,
   "isInternetEnabled": true,
   "language": "python",
   "sourceType": "notebook"
  },
  "kernelspec": {
   "display_name": "Python 3",
   "language": "python",
   "name": "python3"
  },
  "language_info": {
   "codemirror_mode": {
    "name": "ipython",
    "version": 3
   },
   "file_extension": ".py",
   "mimetype": "text/x-python",
   "name": "python",
   "nbconvert_exporter": "python",
   "pygments_lexer": "ipython3",
   "version": "3.7.12"
  },
  "papermill": {
   "default_parameters": {},
   "duration": 1794.996139,
   "end_time": "2024-02-01T00:29:43.365893",
   "environment_variables": {},
   "exception": null,
   "input_path": "__notebook__.ipynb",
   "output_path": "__notebook__.ipynb",
   "parameters": {},
   "start_time": "2024-01-31T23:59:48.369754",
   "version": "2.3.4"
  },
  "widgets": {
   "application/vnd.jupyter.widget-state+json": {
    "state": {
     "0453289ae08048058fc3700049c68242": {
      "model_module": "@jupyter-widgets/base",
      "model_module_version": "1.2.0",
      "model_name": "LayoutModel",
      "state": {
       "_model_module": "@jupyter-widgets/base",
       "_model_module_version": "1.2.0",
       "_model_name": "LayoutModel",
       "_view_count": null,
       "_view_module": "@jupyter-widgets/base",
       "_view_module_version": "1.2.0",
       "_view_name": "LayoutView",
       "align_content": null,
       "align_items": null,
       "align_self": null,
       "border": null,
       "bottom": null,
       "display": null,
       "flex": null,
       "flex_flow": null,
       "grid_area": null,
       "grid_auto_columns": null,
       "grid_auto_flow": null,
       "grid_auto_rows": null,
       "grid_column": null,
       "grid_gap": null,
       "grid_row": null,
       "grid_template_areas": null,
       "grid_template_columns": null,
       "grid_template_rows": null,
       "height": null,
       "justify_content": null,
       "justify_items": null,
       "left": null,
       "margin": null,
       "max_height": null,
       "max_width": null,
       "min_height": null,
       "min_width": null,
       "object_fit": null,
       "object_position": null,
       "order": null,
       "overflow": null,
       "overflow_x": null,
       "overflow_y": null,
       "padding": null,
       "right": null,
       "top": null,
       "visibility": null,
       "width": null
      }
     },
     "07951355fdd6455b80e2c8bfa9a33635": {
      "model_module": "@jupyter-widgets/controls",
      "model_module_version": "1.5.0",
      "model_name": "DescriptionStyleModel",
      "state": {
       "_model_module": "@jupyter-widgets/controls",
       "_model_module_version": "1.5.0",
       "_model_name": "DescriptionStyleModel",
       "_view_count": null,
       "_view_module": "@jupyter-widgets/base",
       "_view_module_version": "1.2.0",
       "_view_name": "StyleView",
       "description_width": ""
      }
     },
     "0b66f750f330493281925cf2e778e176": {
      "model_module": "@jupyter-widgets/controls",
      "model_module_version": "1.5.0",
      "model_name": "DescriptionStyleModel",
      "state": {
       "_model_module": "@jupyter-widgets/controls",
       "_model_module_version": "1.5.0",
       "_model_name": "DescriptionStyleModel",
       "_view_count": null,
       "_view_module": "@jupyter-widgets/base",
       "_view_module_version": "1.2.0",
       "_view_name": "StyleView",
       "description_width": ""
      }
     },
     "17e7e399708a4172b089e9edd2910059": {
      "model_module": "@jupyter-widgets/controls",
      "model_module_version": "1.5.0",
      "model_name": "ProgressStyleModel",
      "state": {
       "_model_module": "@jupyter-widgets/controls",
       "_model_module_version": "1.5.0",
       "_model_name": "ProgressStyleModel",
       "_view_count": null,
       "_view_module": "@jupyter-widgets/base",
       "_view_module_version": "1.2.0",
       "_view_name": "StyleView",
       "bar_color": null,
       "description_width": ""
      }
     },
     "1deb743af9c2477ab5354ee524fae4f0": {
      "model_module": "@jupyter-widgets/controls",
      "model_module_version": "1.5.0",
      "model_name": "DescriptionStyleModel",
      "state": {
       "_model_module": "@jupyter-widgets/controls",
       "_model_module_version": "1.5.0",
       "_model_name": "DescriptionStyleModel",
       "_view_count": null,
       "_view_module": "@jupyter-widgets/base",
       "_view_module_version": "1.2.0",
       "_view_name": "StyleView",
       "description_width": ""
      }
     },
     "2285eabd49cd4ca88b35195359c47d45": {
      "model_module": "@jupyter-widgets/controls",
      "model_module_version": "1.5.0",
      "model_name": "ProgressStyleModel",
      "state": {
       "_model_module": "@jupyter-widgets/controls",
       "_model_module_version": "1.5.0",
       "_model_name": "ProgressStyleModel",
       "_view_count": null,
       "_view_module": "@jupyter-widgets/base",
       "_view_module_version": "1.2.0",
       "_view_name": "StyleView",
       "bar_color": null,
       "description_width": ""
      }
     },
     "2340ab54a0c04d2da1ca06e1d5655ad4": {
      "model_module": "@jupyter-widgets/base",
      "model_module_version": "1.2.0",
      "model_name": "LayoutModel",
      "state": {
       "_model_module": "@jupyter-widgets/base",
       "_model_module_version": "1.2.0",
       "_model_name": "LayoutModel",
       "_view_count": null,
       "_view_module": "@jupyter-widgets/base",
       "_view_module_version": "1.2.0",
       "_view_name": "LayoutView",
       "align_content": null,
       "align_items": null,
       "align_self": null,
       "border": null,
       "bottom": null,
       "display": null,
       "flex": null,
       "flex_flow": null,
       "grid_area": null,
       "grid_auto_columns": null,
       "grid_auto_flow": null,
       "grid_auto_rows": null,
       "grid_column": null,
       "grid_gap": null,
       "grid_row": null,
       "grid_template_areas": null,
       "grid_template_columns": null,
       "grid_template_rows": null,
       "height": null,
       "justify_content": null,
       "justify_items": null,
       "left": null,
       "margin": null,
       "max_height": null,
       "max_width": null,
       "min_height": null,
       "min_width": null,
       "object_fit": null,
       "object_position": null,
       "order": null,
       "overflow": null,
       "overflow_x": null,
       "overflow_y": null,
       "padding": null,
       "right": null,
       "top": null,
       "visibility": null,
       "width": null
      }
     },
     "244ab85ff41b4b64841cb42bf5bdf90d": {
      "model_module": "@jupyter-widgets/controls",
      "model_module_version": "1.5.0",
      "model_name": "ProgressStyleModel",
      "state": {
       "_model_module": "@jupyter-widgets/controls",
       "_model_module_version": "1.5.0",
       "_model_name": "ProgressStyleModel",
       "_view_count": null,
       "_view_module": "@jupyter-widgets/base",
       "_view_module_version": "1.2.0",
       "_view_name": "StyleView",
       "bar_color": null,
       "description_width": ""
      }
     },
     "29a056d2dfbf42c2b03caa8d8ee7a3ec": {
      "model_module": "@jupyter-widgets/base",
      "model_module_version": "1.2.0",
      "model_name": "LayoutModel",
      "state": {
       "_model_module": "@jupyter-widgets/base",
       "_model_module_version": "1.2.0",
       "_model_name": "LayoutModel",
       "_view_count": null,
       "_view_module": "@jupyter-widgets/base",
       "_view_module_version": "1.2.0",
       "_view_name": "LayoutView",
       "align_content": null,
       "align_items": null,
       "align_self": null,
       "border": null,
       "bottom": null,
       "display": null,
       "flex": null,
       "flex_flow": null,
       "grid_area": null,
       "grid_auto_columns": null,
       "grid_auto_flow": null,
       "grid_auto_rows": null,
       "grid_column": null,
       "grid_gap": null,
       "grid_row": null,
       "grid_template_areas": null,
       "grid_template_columns": null,
       "grid_template_rows": null,
       "height": null,
       "justify_content": null,
       "justify_items": null,
       "left": null,
       "margin": null,
       "max_height": null,
       "max_width": null,
       "min_height": null,
       "min_width": null,
       "object_fit": null,
       "object_position": null,
       "order": null,
       "overflow": null,
       "overflow_x": null,
       "overflow_y": null,
       "padding": null,
       "right": null,
       "top": null,
       "visibility": null,
       "width": null
      }
     },
     "3497169a2dc94a2383aefc3b392eeef5": {
      "model_module": "@jupyter-widgets/controls",
      "model_module_version": "1.5.0",
      "model_name": "FloatProgressModel",
      "state": {
       "_dom_classes": [],
       "_model_module": "@jupyter-widgets/controls",
       "_model_module_version": "1.5.0",
       "_model_name": "FloatProgressModel",
       "_view_count": null,
       "_view_module": "@jupyter-widgets/controls",
       "_view_module_version": "1.5.0",
       "_view_name": "ProgressView",
       "bar_style": "success",
       "description": "",
       "description_tooltip": null,
       "layout": "IPY_MODEL_cb4134d5ebb6496287be9542a342b870",
       "max": 557.0,
       "min": 0.0,
       "orientation": "horizontal",
       "style": "IPY_MODEL_17e7e399708a4172b089e9edd2910059",
       "value": 557.0
      }
     },
     "3f2b87a057d546c8ab3e928ab7a22e7a": {
      "model_module": "@jupyter-widgets/base",
      "model_module_version": "1.2.0",
      "model_name": "LayoutModel",
      "state": {
       "_model_module": "@jupyter-widgets/base",
       "_model_module_version": "1.2.0",
       "_model_name": "LayoutModel",
       "_view_count": null,
       "_view_module": "@jupyter-widgets/base",
       "_view_module_version": "1.2.0",
       "_view_name": "LayoutView",
       "align_content": null,
       "align_items": null,
       "align_self": null,
       "border": null,
       "bottom": null,
       "display": null,
       "flex": null,
       "flex_flow": null,
       "grid_area": null,
       "grid_auto_columns": null,
       "grid_auto_flow": null,
       "grid_auto_rows": null,
       "grid_column": null,
       "grid_gap": null,
       "grid_row": null,
       "grid_template_areas": null,
       "grid_template_columns": null,
       "grid_template_rows": null,
       "height": null,
       "justify_content": null,
       "justify_items": null,
       "left": null,
       "margin": null,
       "max_height": null,
       "max_width": null,
       "min_height": null,
       "min_width": null,
       "object_fit": null,
       "object_position": null,
       "order": null,
       "overflow": null,
       "overflow_x": null,
       "overflow_y": null,
       "padding": null,
       "right": null,
       "top": null,
       "visibility": null,
       "width": null
      }
     },
     "4ddbc0dc8cbd4ccfb1a0089f16e2911f": {
      "model_module": "@jupyter-widgets/controls",
      "model_module_version": "1.5.0",
      "model_name": "HBoxModel",
      "state": {
       "_dom_classes": [],
       "_model_module": "@jupyter-widgets/controls",
       "_model_module_version": "1.5.0",
       "_model_name": "HBoxModel",
       "_view_count": null,
       "_view_module": "@jupyter-widgets/controls",
       "_view_module_version": "1.5.0",
       "_view_name": "HBoxView",
       "box_style": "",
       "children": [
        "IPY_MODEL_f4ed16f07c24496cb073b781b1c45a24",
        "IPY_MODEL_588cdeb2fc6d453d84b4cd449cd8c530",
        "IPY_MODEL_9a8ee31fa8814b5c9d37a7eea861277a"
       ],
       "layout": "IPY_MODEL_3f2b87a057d546c8ab3e928ab7a22e7a"
      }
     },
     "505933cb21744171870a5842826e0ecc": {
      "model_module": "@jupyter-widgets/controls",
      "model_module_version": "1.5.0",
      "model_name": "DescriptionStyleModel",
      "state": {
       "_model_module": "@jupyter-widgets/controls",
       "_model_module_version": "1.5.0",
       "_model_name": "DescriptionStyleModel",
       "_view_count": null,
       "_view_module": "@jupyter-widgets/base",
       "_view_module_version": "1.2.0",
       "_view_name": "StyleView",
       "description_width": ""
      }
     },
     "588cdeb2fc6d453d84b4cd449cd8c530": {
      "model_module": "@jupyter-widgets/controls",
      "model_module_version": "1.5.0",
      "model_name": "FloatProgressModel",
      "state": {
       "_dom_classes": [],
       "_model_module": "@jupyter-widgets/controls",
       "_model_module_version": "1.5.0",
       "_model_name": "FloatProgressModel",
       "_view_count": null,
       "_view_module": "@jupyter-widgets/controls",
       "_view_module_version": "1.5.0",
       "_view_name": "ProgressView",
       "bar_style": "success",
       "description": "",
       "description_tooltip": null,
       "layout": "IPY_MODEL_29a056d2dfbf42c2b03caa8d8ee7a3ec",
       "max": 1135173.0,
       "min": 0.0,
       "orientation": "horizontal",
       "style": "IPY_MODEL_ca8040442a1c4f16950211cd3a783caf",
       "value": 1135173.0
      }
     },
     "624c1f5e4f54485da260cae4b6aca7c8": {
      "model_module": "@jupyter-widgets/base",
      "model_module_version": "1.2.0",
      "model_name": "LayoutModel",
      "state": {
       "_model_module": "@jupyter-widgets/base",
       "_model_module_version": "1.2.0",
       "_model_name": "LayoutModel",
       "_view_count": null,
       "_view_module": "@jupyter-widgets/base",
       "_view_module_version": "1.2.0",
       "_view_name": "LayoutView",
       "align_content": null,
       "align_items": null,
       "align_self": null,
       "border": null,
       "bottom": null,
       "display": null,
       "flex": null,
       "flex_flow": null,
       "grid_area": null,
       "grid_auto_columns": null,
       "grid_auto_flow": null,
       "grid_auto_rows": null,
       "grid_column": null,
       "grid_gap": null,
       "grid_row": null,
       "grid_template_areas": null,
       "grid_template_columns": null,
       "grid_template_rows": null,
       "height": null,
       "justify_content": null,
       "justify_items": null,
       "left": null,
       "margin": null,
       "max_height": null,
       "max_width": null,
       "min_height": null,
       "min_width": null,
       "object_fit": null,
       "object_position": null,
       "order": null,
       "overflow": null,
       "overflow_x": null,
       "overflow_y": null,
       "padding": null,
       "right": null,
       "top": null,
       "visibility": null,
       "width": null
      }
     },
     "696af2cad98846d69f0c5f1653491812": {
      "model_module": "@jupyter-widgets/controls",
      "model_module_version": "1.5.0",
      "model_name": "HBoxModel",
      "state": {
       "_dom_classes": [],
       "_model_module": "@jupyter-widgets/controls",
       "_model_module_version": "1.5.0",
       "_model_name": "HBoxModel",
       "_view_count": null,
       "_view_module": "@jupyter-widgets/controls",
       "_view_module_version": "1.5.0",
       "_view_name": "HBoxView",
       "box_style": "",
       "children": [
        "IPY_MODEL_7ce517e9e1064a1aa7d404bb3947e27e",
        "IPY_MODEL_e92055467b0347c2ab143e0125e0e56b",
        "IPY_MODEL_de4a3f9fff6d4ac68d2890444df073b9"
       ],
       "layout": "IPY_MODEL_a928545038754c25b8b1e5d13e69fcbe"
      }
     },
     "726735b336394ecdbb76d2531f3e81d2": {
      "model_module": "@jupyter-widgets/base",
      "model_module_version": "1.2.0",
      "model_name": "LayoutModel",
      "state": {
       "_model_module": "@jupyter-widgets/base",
       "_model_module_version": "1.2.0",
       "_model_name": "LayoutModel",
       "_view_count": null,
       "_view_module": "@jupyter-widgets/base",
       "_view_module_version": "1.2.0",
       "_view_name": "LayoutView",
       "align_content": null,
       "align_items": null,
       "align_self": null,
       "border": null,
       "bottom": null,
       "display": null,
       "flex": null,
       "flex_flow": null,
       "grid_area": null,
       "grid_auto_columns": null,
       "grid_auto_flow": null,
       "grid_auto_rows": null,
       "grid_column": null,
       "grid_gap": null,
       "grid_row": null,
       "grid_template_areas": null,
       "grid_template_columns": null,
       "grid_template_rows": null,
       "height": null,
       "justify_content": null,
       "justify_items": null,
       "left": null,
       "margin": null,
       "max_height": null,
       "max_width": null,
       "min_height": null,
       "min_width": null,
       "object_fit": null,
       "object_position": null,
       "order": null,
       "overflow": null,
       "overflow_x": null,
       "overflow_y": null,
       "padding": null,
       "right": null,
       "top": null,
       "visibility": null,
       "width": null
      }
     },
     "7ce517e9e1064a1aa7d404bb3947e27e": {
      "model_module": "@jupyter-widgets/controls",
      "model_module_version": "1.5.0",
      "model_name": "HTMLModel",
      "state": {
       "_dom_classes": [],
       "_model_module": "@jupyter-widgets/controls",
       "_model_module_version": "1.5.0",
       "_model_name": "HTMLModel",
       "_view_count": null,
       "_view_module": "@jupyter-widgets/controls",
       "_view_module_version": "1.5.0",
       "_view_name": "HTMLView",
       "description": "",
       "description_tooltip": null,
       "layout": "IPY_MODEL_2340ab54a0c04d2da1ca06e1d5655ad4",
       "placeholder": "​",
       "style": "IPY_MODEL_07951355fdd6455b80e2c8bfa9a33635",
       "value": "Downloading: 100%"
      }
     },
     "7e69670412054df5a3f3037c86976d9a": {
      "model_module": "@jupyter-widgets/controls",
      "model_module_version": "1.5.0",
      "model_name": "HTMLModel",
      "state": {
       "_dom_classes": [],
       "_model_module": "@jupyter-widgets/controls",
       "_model_module_version": "1.5.0",
       "_model_name": "HTMLModel",
       "_view_count": null,
       "_view_module": "@jupyter-widgets/controls",
       "_view_module_version": "1.5.0",
       "_view_name": "HTMLView",
       "description": "",
       "description_tooltip": null,
       "layout": "IPY_MODEL_624c1f5e4f54485da260cae4b6aca7c8",
       "placeholder": "​",
       "style": "IPY_MODEL_f24cb266650b422c857f32a91cbd1bf7",
       "value": "Downloading: 100%"
      }
     },
     "7faec411185b4dd1a6e6787fa20fc89b": {
      "model_module": "@jupyter-widgets/controls",
      "model_module_version": "1.5.0",
      "model_name": "HTMLModel",
      "state": {
       "_dom_classes": [],
       "_model_module": "@jupyter-widgets/controls",
       "_model_module_version": "1.5.0",
       "_model_name": "HTMLModel",
       "_view_count": null,
       "_view_module": "@jupyter-widgets/controls",
       "_view_module_version": "1.5.0",
       "_view_name": "HTMLView",
       "description": "",
       "description_tooltip": null,
       "layout": "IPY_MODEL_726735b336394ecdbb76d2531f3e81d2",
       "placeholder": "​",
       "style": "IPY_MODEL_505933cb21744171870a5842826e0ecc",
       "value": " 518M/518M [00:13&lt;00:00, 42.1MB/s]"
      }
     },
     "82889cb9914a494a85205f056b8efddb": {
      "model_module": "@jupyter-widgets/base",
      "model_module_version": "1.2.0",
      "model_name": "LayoutModel",
      "state": {
       "_model_module": "@jupyter-widgets/base",
       "_model_module_version": "1.2.0",
       "_model_name": "LayoutModel",
       "_view_count": null,
       "_view_module": "@jupyter-widgets/base",
       "_view_module_version": "1.2.0",
       "_view_name": "LayoutView",
       "align_content": null,
       "align_items": null,
       "align_self": null,
       "border": null,
       "bottom": null,
       "display": null,
       "flex": null,
       "flex_flow": null,
       "grid_area": null,
       "grid_auto_columns": null,
       "grid_auto_flow": null,
       "grid_auto_rows": null,
       "grid_column": null,
       "grid_gap": null,
       "grid_row": null,
       "grid_template_areas": null,
       "grid_template_columns": null,
       "grid_template_rows": null,
       "height": null,
       "justify_content": null,
       "justify_items": null,
       "left": null,
       "margin": null,
       "max_height": null,
       "max_width": null,
       "min_height": null,
       "min_width": null,
       "object_fit": null,
       "object_position": null,
       "order": null,
       "overflow": null,
       "overflow_x": null,
       "overflow_y": null,
       "padding": null,
       "right": null,
       "top": null,
       "visibility": null,
       "width": null
      }
     },
     "85bd758243c4449bae6a7dacf2f2b2fd": {
      "model_module": "@jupyter-widgets/controls",
      "model_module_version": "1.5.0",
      "model_name": "DescriptionStyleModel",
      "state": {
       "_model_module": "@jupyter-widgets/controls",
       "_model_module_version": "1.5.0",
       "_model_name": "DescriptionStyleModel",
       "_view_count": null,
       "_view_module": "@jupyter-widgets/base",
       "_view_module_version": "1.2.0",
       "_view_name": "StyleView",
       "description_width": ""
      }
     },
     "95a8d09fc1aa4dab9fe6f65a5d72cdaf": {
      "model_module": "@jupyter-widgets/controls",
      "model_module_version": "1.5.0",
      "model_name": "HTMLModel",
      "state": {
       "_dom_classes": [],
       "_model_module": "@jupyter-widgets/controls",
       "_model_module_version": "1.5.0",
       "_model_name": "HTMLModel",
       "_view_count": null,
       "_view_module": "@jupyter-widgets/controls",
       "_view_module_version": "1.5.0",
       "_view_name": "HTMLView",
       "description": "",
       "description_tooltip": null,
       "layout": "IPY_MODEL_e5aecdb0a15f48daa15c4559f893f5da",
       "placeholder": "​",
       "style": "IPY_MODEL_0b66f750f330493281925cf2e778e176",
       "value": " 557/557 [00:00&lt;00:00, 18.8kB/s]"
      }
     },
     "9a8ee31fa8814b5c9d37a7eea861277a": {
      "model_module": "@jupyter-widgets/controls",
      "model_module_version": "1.5.0",
      "model_name": "HTMLModel",
      "state": {
       "_dom_classes": [],
       "_model_module": "@jupyter-widgets/controls",
       "_model_module_version": "1.5.0",
       "_model_name": "HTMLModel",
       "_view_count": null,
       "_view_module": "@jupyter-widgets/controls",
       "_view_module_version": "1.5.0",
       "_view_name": "HTMLView",
       "description": "",
       "description_tooltip": null,
       "layout": "IPY_MODEL_b3bab8acebac4de99e04a689a278d347",
       "placeholder": "​",
       "style": "IPY_MODEL_f4dfb5ebf31d4c229b0e3c81542b2717",
       "value": " 1.08M/1.08M [00:00&lt;00:00, 2.32MB/s]"
      }
     },
     "a928545038754c25b8b1e5d13e69fcbe": {
      "model_module": "@jupyter-widgets/base",
      "model_module_version": "1.2.0",
      "model_name": "LayoutModel",
      "state": {
       "_model_module": "@jupyter-widgets/base",
       "_model_module_version": "1.2.0",
       "_model_name": "LayoutModel",
       "_view_count": null,
       "_view_module": "@jupyter-widgets/base",
       "_view_module_version": "1.2.0",
       "_view_name": "LayoutView",
       "align_content": null,
       "align_items": null,
       "align_self": null,
       "border": null,
       "bottom": null,
       "display": null,
       "flex": null,
       "flex_flow": null,
       "grid_area": null,
       "grid_auto_columns": null,
       "grid_auto_flow": null,
       "grid_auto_rows": null,
       "grid_column": null,
       "grid_gap": null,
       "grid_row": null,
       "grid_template_areas": null,
       "grid_template_columns": null,
       "grid_template_rows": null,
       "height": null,
       "justify_content": null,
       "justify_items": null,
       "left": null,
       "margin": null,
       "max_height": null,
       "max_width": null,
       "min_height": null,
       "min_width": null,
       "object_fit": null,
       "object_position": null,
       "order": null,
       "overflow": null,
       "overflow_x": null,
       "overflow_y": null,
       "padding": null,
       "right": null,
       "top": null,
       "visibility": null,
       "width": null
      }
     },
     "ab5109e4e8644455aa91223c9b414fd0": {
      "model_module": "@jupyter-widgets/controls",
      "model_module_version": "1.5.0",
      "model_name": "HBoxModel",
      "state": {
       "_dom_classes": [],
       "_model_module": "@jupyter-widgets/controls",
       "_model_module_version": "1.5.0",
       "_model_name": "HBoxModel",
       "_view_count": null,
       "_view_module": "@jupyter-widgets/controls",
       "_view_module_version": "1.5.0",
       "_view_name": "HBoxView",
       "box_style": "",
       "children": [
        "IPY_MODEL_7e69670412054df5a3f3037c86976d9a",
        "IPY_MODEL_3497169a2dc94a2383aefc3b392eeef5",
        "IPY_MODEL_95a8d09fc1aa4dab9fe6f65a5d72cdaf"
       ],
       "layout": "IPY_MODEL_cb4583f8e75342ea87e9e766a2fef678"
      }
     },
     "b3bab8acebac4de99e04a689a278d347": {
      "model_module": "@jupyter-widgets/base",
      "model_module_version": "1.2.0",
      "model_name": "LayoutModel",
      "state": {
       "_model_module": "@jupyter-widgets/base",
       "_model_module_version": "1.2.0",
       "_model_name": "LayoutModel",
       "_view_count": null,
       "_view_module": "@jupyter-widgets/base",
       "_view_module_version": "1.2.0",
       "_view_name": "LayoutView",
       "align_content": null,
       "align_items": null,
       "align_self": null,
       "border": null,
       "bottom": null,
       "display": null,
       "flex": null,
       "flex_flow": null,
       "grid_area": null,
       "grid_auto_columns": null,
       "grid_auto_flow": null,
       "grid_auto_rows": null,
       "grid_column": null,
       "grid_gap": null,
       "grid_row": null,
       "grid_template_areas": null,
       "grid_template_columns": null,
       "grid_template_rows": null,
       "height": null,
       "justify_content": null,
       "justify_items": null,
       "left": null,
       "margin": null,
       "max_height": null,
       "max_width": null,
       "min_height": null,
       "min_width": null,
       "object_fit": null,
       "object_position": null,
       "order": null,
       "overflow": null,
       "overflow_x": null,
       "overflow_y": null,
       "padding": null,
       "right": null,
       "top": null,
       "visibility": null,
       "width": null
      }
     },
     "bbdcfe1159224599a99f3727457b272b": {
      "model_module": "@jupyter-widgets/base",
      "model_module_version": "1.2.0",
      "model_name": "LayoutModel",
      "state": {
       "_model_module": "@jupyter-widgets/base",
       "_model_module_version": "1.2.0",
       "_model_name": "LayoutModel",
       "_view_count": null,
       "_view_module": "@jupyter-widgets/base",
       "_view_module_version": "1.2.0",
       "_view_name": "LayoutView",
       "align_content": null,
       "align_items": null,
       "align_self": null,
       "border": null,
       "bottom": null,
       "display": null,
       "flex": null,
       "flex_flow": null,
       "grid_area": null,
       "grid_auto_columns": null,
       "grid_auto_flow": null,
       "grid_auto_rows": null,
       "grid_column": null,
       "grid_gap": null,
       "grid_row": null,
       "grid_template_areas": null,
       "grid_template_columns": null,
       "grid_template_rows": null,
       "height": null,
       "justify_content": null,
       "justify_items": null,
       "left": null,
       "margin": null,
       "max_height": null,
       "max_width": null,
       "min_height": null,
       "min_width": null,
       "object_fit": null,
       "object_position": null,
       "order": null,
       "overflow": null,
       "overflow_x": null,
       "overflow_y": null,
       "padding": null,
       "right": null,
       "top": null,
       "visibility": null,
       "width": null
      }
     },
     "ca8040442a1c4f16950211cd3a783caf": {
      "model_module": "@jupyter-widgets/controls",
      "model_module_version": "1.5.0",
      "model_name": "ProgressStyleModel",
      "state": {
       "_model_module": "@jupyter-widgets/controls",
       "_model_module_version": "1.5.0",
       "_model_name": "ProgressStyleModel",
       "_view_count": null,
       "_view_module": "@jupyter-widgets/base",
       "_view_module_version": "1.2.0",
       "_view_name": "StyleView",
       "bar_color": null,
       "description_width": ""
      }
     },
     "cb4134d5ebb6496287be9542a342b870": {
      "model_module": "@jupyter-widgets/base",
      "model_module_version": "1.2.0",
      "model_name": "LayoutModel",
      "state": {
       "_model_module": "@jupyter-widgets/base",
       "_model_module_version": "1.2.0",
       "_model_name": "LayoutModel",
       "_view_count": null,
       "_view_module": "@jupyter-widgets/base",
       "_view_module_version": "1.2.0",
       "_view_name": "LayoutView",
       "align_content": null,
       "align_items": null,
       "align_self": null,
       "border": null,
       "bottom": null,
       "display": null,
       "flex": null,
       "flex_flow": null,
       "grid_area": null,
       "grid_auto_columns": null,
       "grid_auto_flow": null,
       "grid_auto_rows": null,
       "grid_column": null,
       "grid_gap": null,
       "grid_row": null,
       "grid_template_areas": null,
       "grid_template_columns": null,
       "grid_template_rows": null,
       "height": null,
       "justify_content": null,
       "justify_items": null,
       "left": null,
       "margin": null,
       "max_height": null,
       "max_width": null,
       "min_height": null,
       "min_width": null,
       "object_fit": null,
       "object_position": null,
       "order": null,
       "overflow": null,
       "overflow_x": null,
       "overflow_y": null,
       "padding": null,
       "right": null,
       "top": null,
       "visibility": null,
       "width": null
      }
     },
     "cb4583f8e75342ea87e9e766a2fef678": {
      "model_module": "@jupyter-widgets/base",
      "model_module_version": "1.2.0",
      "model_name": "LayoutModel",
      "state": {
       "_model_module": "@jupyter-widgets/base",
       "_model_module_version": "1.2.0",
       "_model_name": "LayoutModel",
       "_view_count": null,
       "_view_module": "@jupyter-widgets/base",
       "_view_module_version": "1.2.0",
       "_view_name": "LayoutView",
       "align_content": null,
       "align_items": null,
       "align_self": null,
       "border": null,
       "bottom": null,
       "display": null,
       "flex": null,
       "flex_flow": null,
       "grid_area": null,
       "grid_auto_columns": null,
       "grid_auto_flow": null,
       "grid_auto_rows": null,
       "grid_column": null,
       "grid_gap": null,
       "grid_row": null,
       "grid_template_areas": null,
       "grid_template_columns": null,
       "grid_template_rows": null,
       "height": null,
       "justify_content": null,
       "justify_items": null,
       "left": null,
       "margin": null,
       "max_height": null,
       "max_width": null,
       "min_height": null,
       "min_width": null,
       "object_fit": null,
       "object_position": null,
       "order": null,
       "overflow": null,
       "overflow_x": null,
       "overflow_y": null,
       "padding": null,
       "right": null,
       "top": null,
       "visibility": null,
       "width": null
      }
     },
     "cdc715863c5047f686c2ed7c01c43ff4": {
      "model_module": "@jupyter-widgets/base",
      "model_module_version": "1.2.0",
      "model_name": "LayoutModel",
      "state": {
       "_model_module": "@jupyter-widgets/base",
       "_model_module_version": "1.2.0",
       "_model_name": "LayoutModel",
       "_view_count": null,
       "_view_module": "@jupyter-widgets/base",
       "_view_module_version": "1.2.0",
       "_view_name": "LayoutView",
       "align_content": null,
       "align_items": null,
       "align_self": null,
       "border": null,
       "bottom": null,
       "display": null,
       "flex": null,
       "flex_flow": null,
       "grid_area": null,
       "grid_auto_columns": null,
       "grid_auto_flow": null,
       "grid_auto_rows": null,
       "grid_column": null,
       "grid_gap": null,
       "grid_row": null,
       "grid_template_areas": null,
       "grid_template_columns": null,
       "grid_template_rows": null,
       "height": null,
       "justify_content": null,
       "justify_items": null,
       "left": null,
       "margin": null,
       "max_height": null,
       "max_width": null,
       "min_height": null,
       "min_width": null,
       "object_fit": null,
       "object_position": null,
       "order": null,
       "overflow": null,
       "overflow_x": null,
       "overflow_y": null,
       "padding": null,
       "right": null,
       "top": null,
       "visibility": null,
       "width": null
      }
     },
     "d007db1dc35e49bfb5ef8197e381efaf": {
      "model_module": "@jupyter-widgets/controls",
      "model_module_version": "1.5.0",
      "model_name": "FloatProgressModel",
      "state": {
       "_dom_classes": [],
       "_model_module": "@jupyter-widgets/controls",
       "_model_module_version": "1.5.0",
       "_model_name": "FloatProgressModel",
       "_view_count": null,
       "_view_module": "@jupyter-widgets/controls",
       "_view_module_version": "1.5.0",
       "_view_name": "ProgressView",
       "bar_style": "success",
       "description": "",
       "description_tooltip": null,
       "layout": "IPY_MODEL_cdc715863c5047f686c2ed7c01c43ff4",
       "max": 542923308.0,
       "min": 0.0,
       "orientation": "horizontal",
       "style": "IPY_MODEL_2285eabd49cd4ca88b35195359c47d45",
       "value": 542923308.0
      }
     },
     "d3d4f90627a4437e83806c113470877a": {
      "model_module": "@jupyter-widgets/base",
      "model_module_version": "1.2.0",
      "model_name": "LayoutModel",
      "state": {
       "_model_module": "@jupyter-widgets/base",
       "_model_module_version": "1.2.0",
       "_model_name": "LayoutModel",
       "_view_count": null,
       "_view_module": "@jupyter-widgets/base",
       "_view_module_version": "1.2.0",
       "_view_name": "LayoutView",
       "align_content": null,
       "align_items": null,
       "align_self": null,
       "border": null,
       "bottom": null,
       "display": null,
       "flex": null,
       "flex_flow": null,
       "grid_area": null,
       "grid_auto_columns": null,
       "grid_auto_flow": null,
       "grid_auto_rows": null,
       "grid_column": null,
       "grid_gap": null,
       "grid_row": null,
       "grid_template_areas": null,
       "grid_template_columns": null,
       "grid_template_rows": null,
       "height": null,
       "justify_content": null,
       "justify_items": null,
       "left": null,
       "margin": null,
       "max_height": null,
       "max_width": null,
       "min_height": null,
       "min_width": null,
       "object_fit": null,
       "object_position": null,
       "order": null,
       "overflow": null,
       "overflow_x": null,
       "overflow_y": null,
       "padding": null,
       "right": null,
       "top": null,
       "visibility": null,
       "width": null
      }
     },
     "d9d7ff79880f4a1aa4db6d3eb9b69900": {
      "model_module": "@jupyter-widgets/controls",
      "model_module_version": "1.5.0",
      "model_name": "DescriptionStyleModel",
      "state": {
       "_model_module": "@jupyter-widgets/controls",
       "_model_module_version": "1.5.0",
       "_model_name": "DescriptionStyleModel",
       "_view_count": null,
       "_view_module": "@jupyter-widgets/base",
       "_view_module_version": "1.2.0",
       "_view_name": "StyleView",
       "description_width": ""
      }
     },
     "db499338e8bc4898823c079a952cb7d7": {
      "model_module": "@jupyter-widgets/controls",
      "model_module_version": "1.5.0",
      "model_name": "HTMLModel",
      "state": {
       "_dom_classes": [],
       "_model_module": "@jupyter-widgets/controls",
       "_model_module_version": "1.5.0",
       "_model_name": "HTMLModel",
       "_view_count": null,
       "_view_module": "@jupyter-widgets/controls",
       "_view_module_version": "1.5.0",
       "_view_name": "HTMLView",
       "description": "",
       "description_tooltip": null,
       "layout": "IPY_MODEL_bbdcfe1159224599a99f3727457b272b",
       "placeholder": "​",
       "style": "IPY_MODEL_1deb743af9c2477ab5354ee524fae4f0",
       "value": "Downloading: 100%"
      }
     },
     "de4a3f9fff6d4ac68d2890444df073b9": {
      "model_module": "@jupyter-widgets/controls",
      "model_module_version": "1.5.0",
      "model_name": "HTMLModel",
      "state": {
       "_dom_classes": [],
       "_model_module": "@jupyter-widgets/controls",
       "_model_module_version": "1.5.0",
       "_model_name": "HTMLModel",
       "_view_count": null,
       "_view_module": "@jupyter-widgets/controls",
       "_view_module_version": "1.5.0",
       "_view_name": "HTMLView",
       "description": "",
       "description_tooltip": null,
       "layout": "IPY_MODEL_d3d4f90627a4437e83806c113470877a",
       "placeholder": "​",
       "style": "IPY_MODEL_d9d7ff79880f4a1aa4db6d3eb9b69900",
       "value": " 874k/874k [00:00&lt;00:00, 6.03MB/s]"
      }
     },
     "e56ebf70c4f24a74a5b55567b7776349": {
      "model_module": "@jupyter-widgets/base",
      "model_module_version": "1.2.0",
      "model_name": "LayoutModel",
      "state": {
       "_model_module": "@jupyter-widgets/base",
       "_model_module_version": "1.2.0",
       "_model_name": "LayoutModel",
       "_view_count": null,
       "_view_module": "@jupyter-widgets/base",
       "_view_module_version": "1.2.0",
       "_view_name": "LayoutView",
       "align_content": null,
       "align_items": null,
       "align_self": null,
       "border": null,
       "bottom": null,
       "display": null,
       "flex": null,
       "flex_flow": null,
       "grid_area": null,
       "grid_auto_columns": null,
       "grid_auto_flow": null,
       "grid_auto_rows": null,
       "grid_column": null,
       "grid_gap": null,
       "grid_row": null,
       "grid_template_areas": null,
       "grid_template_columns": null,
       "grid_template_rows": null,
       "height": null,
       "justify_content": null,
       "justify_items": null,
       "left": null,
       "margin": null,
       "max_height": null,
       "max_width": null,
       "min_height": null,
       "min_width": null,
       "object_fit": null,
       "object_position": null,
       "order": null,
       "overflow": null,
       "overflow_x": null,
       "overflow_y": null,
       "padding": null,
       "right": null,
       "top": null,
       "visibility": null,
       "width": null
      }
     },
     "e5aecdb0a15f48daa15c4559f893f5da": {
      "model_module": "@jupyter-widgets/base",
      "model_module_version": "1.2.0",
      "model_name": "LayoutModel",
      "state": {
       "_model_module": "@jupyter-widgets/base",
       "_model_module_version": "1.2.0",
       "_model_name": "LayoutModel",
       "_view_count": null,
       "_view_module": "@jupyter-widgets/base",
       "_view_module_version": "1.2.0",
       "_view_name": "LayoutView",
       "align_content": null,
       "align_items": null,
       "align_self": null,
       "border": null,
       "bottom": null,
       "display": null,
       "flex": null,
       "flex_flow": null,
       "grid_area": null,
       "grid_auto_columns": null,
       "grid_auto_flow": null,
       "grid_auto_rows": null,
       "grid_column": null,
       "grid_gap": null,
       "grid_row": null,
       "grid_template_areas": null,
       "grid_template_columns": null,
       "grid_template_rows": null,
       "height": null,
       "justify_content": null,
       "justify_items": null,
       "left": null,
       "margin": null,
       "max_height": null,
       "max_width": null,
       "min_height": null,
       "min_width": null,
       "object_fit": null,
       "object_position": null,
       "order": null,
       "overflow": null,
       "overflow_x": null,
       "overflow_y": null,
       "padding": null,
       "right": null,
       "top": null,
       "visibility": null,
       "width": null
      }
     },
     "e92055467b0347c2ab143e0125e0e56b": {
      "model_module": "@jupyter-widgets/controls",
      "model_module_version": "1.5.0",
      "model_name": "FloatProgressModel",
      "state": {
       "_dom_classes": [],
       "_model_module": "@jupyter-widgets/controls",
       "_model_module_version": "1.5.0",
       "_model_name": "FloatProgressModel",
       "_view_count": null,
       "_view_module": "@jupyter-widgets/controls",
       "_view_module_version": "1.5.0",
       "_view_name": "ProgressView",
       "bar_style": "success",
       "description": "",
       "description_tooltip": null,
       "layout": "IPY_MODEL_e56ebf70c4f24a74a5b55567b7776349",
       "max": 895321.0,
       "min": 0.0,
       "orientation": "horizontal",
       "style": "IPY_MODEL_244ab85ff41b4b64841cb42bf5bdf90d",
       "value": 895321.0
      }
     },
     "f212920f111f41cf907a76d864b11e0e": {
      "model_module": "@jupyter-widgets/controls",
      "model_module_version": "1.5.0",
      "model_name": "HBoxModel",
      "state": {
       "_dom_classes": [],
       "_model_module": "@jupyter-widgets/controls",
       "_model_module_version": "1.5.0",
       "_model_name": "HBoxModel",
       "_view_count": null,
       "_view_module": "@jupyter-widgets/controls",
       "_view_module_version": "1.5.0",
       "_view_name": "HBoxView",
       "box_style": "",
       "children": [
        "IPY_MODEL_db499338e8bc4898823c079a952cb7d7",
        "IPY_MODEL_d007db1dc35e49bfb5ef8197e381efaf",
        "IPY_MODEL_7faec411185b4dd1a6e6787fa20fc89b"
       ],
       "layout": "IPY_MODEL_82889cb9914a494a85205f056b8efddb"
      }
     },
     "f24cb266650b422c857f32a91cbd1bf7": {
      "model_module": "@jupyter-widgets/controls",
      "model_module_version": "1.5.0",
      "model_name": "DescriptionStyleModel",
      "state": {
       "_model_module": "@jupyter-widgets/controls",
       "_model_module_version": "1.5.0",
       "_model_name": "DescriptionStyleModel",
       "_view_count": null,
       "_view_module": "@jupyter-widgets/base",
       "_view_module_version": "1.2.0",
       "_view_name": "StyleView",
       "description_width": ""
      }
     },
     "f4dfb5ebf31d4c229b0e3c81542b2717": {
      "model_module": "@jupyter-widgets/controls",
      "model_module_version": "1.5.0",
      "model_name": "DescriptionStyleModel",
      "state": {
       "_model_module": "@jupyter-widgets/controls",
       "_model_module_version": "1.5.0",
       "_model_name": "DescriptionStyleModel",
       "_view_count": null,
       "_view_module": "@jupyter-widgets/base",
       "_view_module_version": "1.2.0",
       "_view_name": "StyleView",
       "description_width": ""
      }
     },
     "f4ed16f07c24496cb073b781b1c45a24": {
      "model_module": "@jupyter-widgets/controls",
      "model_module_version": "1.5.0",
      "model_name": "HTMLModel",
      "state": {
       "_dom_classes": [],
       "_model_module": "@jupyter-widgets/controls",
       "_model_module_version": "1.5.0",
       "_model_name": "HTMLModel",
       "_view_count": null,
       "_view_module": "@jupyter-widgets/controls",
       "_view_module_version": "1.5.0",
       "_view_name": "HTMLView",
       "description": "",
       "description_tooltip": null,
       "layout": "IPY_MODEL_0453289ae08048058fc3700049c68242",
       "placeholder": "​",
       "style": "IPY_MODEL_85bd758243c4449bae6a7dacf2f2b2fd",
       "value": "Downloading: 100%"
      }
     }
    },
    "version_major": 2,
    "version_minor": 0
   }
  }
 },
 "nbformat": 4,
 "nbformat_minor": 5
}
